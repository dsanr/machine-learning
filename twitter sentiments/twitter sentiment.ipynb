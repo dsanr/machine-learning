{
 "cells": [
  {
   "cell_type": "code",
   "execution_count": 1,
   "id": "e4c53391-558b-4842-abe3-08ad704b9107",
   "metadata": {},
   "outputs": [],
   "source": [
    "import numpy as np\n",
    "import pandas as pd"
   ]
  },
  {
   "cell_type": "code",
   "execution_count": 2,
   "id": "ee6ca5f3-0189-4bd7-97f9-e68a492aae17",
   "metadata": {},
   "outputs": [],
   "source": [
    "import matplotlib.pyplot as plt\n",
    "import seaborn as sns"
   ]
  },
  {
   "cell_type": "code",
   "execution_count": 3,
   "id": "44fd0e3f-3018-4089-8bcd-64c3bdb231cf",
   "metadata": {},
   "outputs": [],
   "source": [
    "import string"
   ]
  },
  {
   "cell_type": "code",
   "execution_count": 4,
   "id": "f8c9f576-3093-4a93-807a-fd7fc5868478",
   "metadata": {},
   "outputs": [],
   "source": [
    "import re"
   ]
  },
  {
   "cell_type": "markdown",
   "id": "4116d9e8-b42e-4824-9c00-6fce39cad591",
   "metadata": {},
   "source": [
    "# Introduction"
   ]
  },
  {
   "cell_type": "code",
   "execution_count": 5,
   "id": "07ba648d-d444-45eb-be88-e9075a478e78",
   "metadata": {},
   "outputs": [],
   "source": [
    "train = pd.read_csv('train.csv')"
   ]
  },
  {
   "cell_type": "code",
   "execution_count": 6,
   "id": "e1741971-cd91-4db6-befd-ff3f606adc84",
   "metadata": {},
   "outputs": [],
   "source": [
    "pd.options.display.max_colwidth=150"
   ]
  },
  {
   "cell_type": "code",
   "execution_count": 7,
   "id": "80236c04-6c63-4e28-a995-979f1b183e15",
   "metadata": {},
   "outputs": [
    {
     "name": "stdout",
     "output_type": "stream",
     "text": [
      "<class 'pandas.core.frame.DataFrame'>\n",
      "RangeIndex: 31962 entries, 0 to 31961\n",
      "Data columns (total 3 columns):\n",
      " #   Column  Non-Null Count  Dtype \n",
      "---  ------  --------------  ----- \n",
      " 0   id      31962 non-null  int64 \n",
      " 1   label   31962 non-null  int64 \n",
      " 2   tweet   31962 non-null  object\n",
      "dtypes: int64(2), object(1)\n",
      "memory usage: 749.2+ KB\n"
     ]
    }
   ],
   "source": [
    "train.info()"
   ]
  },
  {
   "cell_type": "code",
   "execution_count": 8,
   "id": "77cfb37d-2382-4768-9150-b9c0b0bcc2de",
   "metadata": {},
   "outputs": [
    {
     "data": {
      "text/html": [
       "<div>\n",
       "<style scoped>\n",
       "    .dataframe tbody tr th:only-of-type {\n",
       "        vertical-align: middle;\n",
       "    }\n",
       "\n",
       "    .dataframe tbody tr th {\n",
       "        vertical-align: top;\n",
       "    }\n",
       "\n",
       "    .dataframe thead th {\n",
       "        text-align: right;\n",
       "    }\n",
       "</style>\n",
       "<table border=\"1\" class=\"dataframe\">\n",
       "  <thead>\n",
       "    <tr style=\"text-align: right;\">\n",
       "      <th></th>\n",
       "      <th>id</th>\n",
       "      <th>label</th>\n",
       "      <th>tweet</th>\n",
       "    </tr>\n",
       "  </thead>\n",
       "  <tbody>\n",
       "    <tr>\n",
       "      <th>0</th>\n",
       "      <td>1</td>\n",
       "      <td>0</td>\n",
       "      <td>@user when a father is dysfunctional and is so selfish he drags his kids into his dysfunction.   #run</td>\n",
       "    </tr>\n",
       "    <tr>\n",
       "      <th>1</th>\n",
       "      <td>2</td>\n",
       "      <td>0</td>\n",
       "      <td>@user @user thanks for #lyft credit i can't use cause they don't offer wheelchair vans in pdx.    #disapointed #getthanked</td>\n",
       "    </tr>\n",
       "    <tr>\n",
       "      <th>2</th>\n",
       "      <td>3</td>\n",
       "      <td>0</td>\n",
       "      <td>bihday your majesty</td>\n",
       "    </tr>\n",
       "    <tr>\n",
       "      <th>3</th>\n",
       "      <td>4</td>\n",
       "      <td>0</td>\n",
       "      <td>#model   i love u take with u all the time in urð±!!! ðððð",
       "ð¦ð¦ð¦</td>\n",
       "    </tr>\n",
       "    <tr>\n",
       "      <th>4</th>\n",
       "      <td>5</td>\n",
       "      <td>0</td>\n",
       "      <td>factsguide: society now    #motivation</td>\n",
       "    </tr>\n",
       "    <tr>\n",
       "      <th>5</th>\n",
       "      <td>6</td>\n",
       "      <td>0</td>\n",
       "      <td>[2/2] huge fan fare and big talking before they leave. chaos and pay disputes when they get there. #allshowandnogo</td>\n",
       "    </tr>\n",
       "    <tr>\n",
       "      <th>6</th>\n",
       "      <td>7</td>\n",
       "      <td>0</td>\n",
       "      <td>@user camping tomorrow @user @user @user @user @user @user @user dannyâ¦</td>\n",
       "    </tr>\n",
       "    <tr>\n",
       "      <th>7</th>\n",
       "      <td>8</td>\n",
       "      <td>0</td>\n",
       "      <td>the next school year is the year for exams.ð¯ can't think about that ð­ #school #exams   #hate #imagine #actorslife #revolutionschool #girl</td>\n",
       "    </tr>\n",
       "    <tr>\n",
       "      <th>8</th>\n",
       "      <td>9</td>\n",
       "      <td>0</td>\n",
       "      <td>we won!!! love the land!!! #allin #cavs #champions #cleveland #clevelandcavaliers  â¦</td>\n",
       "    </tr>\n",
       "    <tr>\n",
       "      <th>9</th>\n",
       "      <td>10</td>\n",
       "      <td>0</td>\n",
       "      <td>@user @user welcome here !  i'm   it's so #gr8 !</td>\n",
       "    </tr>\n",
       "  </tbody>\n",
       "</table>\n",
       "</div>"
      ],
      "text/plain": [
       "   id  label  \\\n",
       "0   1      0   \n",
       "1   2      0   \n",
       "2   3      0   \n",
       "3   4      0   \n",
       "4   5      0   \n",
       "5   6      0   \n",
       "6   7      0   \n",
       "7   8      0   \n",
       "8   9      0   \n",
       "9  10      0   \n",
       "\n",
       "                                                                                                                                             tweet  \n",
       "0                                            @user when a father is dysfunctional and is so selfish he drags his kids into his dysfunction.   #run  \n",
       "1                       @user @user thanks for #lyft credit i can't use cause they don't offer wheelchair vans in pdx.    #disapointed #getthanked  \n",
       "2                                                                                                                              bihday your majesty  \n",
       "3                                                           #model   i love u take with u all the time in urð±!!! ðððð\n",
       "ð¦ð¦ð¦    \n",
       "4                                                                                                           factsguide: society now    #motivation  \n",
       "5                             [2/2] huge fan fare and big talking before they leave. chaos and pay disputes when they get there. #allshowandnogo    \n",
       "6                                                                        @user camping tomorrow @user @user @user @user @user @user @user dannyâ¦  \n",
       "7  the next school year is the year for exams.ð¯ can't think about that ð­ #school #exams   #hate #imagine #actorslife #revolutionschool #girl  \n",
       "8                                                          we won!!! love the land!!! #allin #cavs #champions #cleveland #clevelandcavaliers  â¦   \n",
       "9                                                                                                @user @user welcome here !  i'm   it's so #gr8 !   "
      ]
     },
     "execution_count": 8,
     "metadata": {},
     "output_type": "execute_result"
    }
   ],
   "source": [
    "train.head(10)"
   ]
  },
  {
   "cell_type": "code",
   "execution_count": 9,
   "id": "1a876ad3-0e79-4134-aed8-094f66e932e9",
   "metadata": {},
   "outputs": [
    {
     "data": {
      "text/plain": [
       "1"
      ]
     },
     "execution_count": 9,
     "metadata": {},
     "output_type": "execute_result"
    }
   ],
   "source": [
    "train['id'].value_counts().max()"
   ]
  },
  {
   "cell_type": "code",
   "execution_count": 10,
   "id": "806aa26e-1751-45df-9c34-5205c94c26e1",
   "metadata": {},
   "outputs": [
    {
     "data": {
      "text/plain": [
       "0    29720\n",
       "1     2242\n",
       "Name: label, dtype: int64"
      ]
     },
     "execution_count": 10,
     "metadata": {},
     "output_type": "execute_result"
    }
   ],
   "source": [
    "train['label'].value_counts()"
   ]
  },
  {
   "cell_type": "code",
   "execution_count": 11,
   "id": "f5a44616-42b3-43ab-8f95-0c889cefeac7",
   "metadata": {},
   "outputs": [
    {
     "data": {
      "text/plain": [
       "0    0.929854\n",
       "1    0.070146\n",
       "Name: label, dtype: float64"
      ]
     },
     "execution_count": 11,
     "metadata": {},
     "output_type": "execute_result"
    }
   ],
   "source": [
    "train['label'].value_counts(normalize=True)"
   ]
  },
  {
   "cell_type": "code",
   "execution_count": 12,
   "id": "3a5fdf45-a504-4755-94e4-0daa20e85b15",
   "metadata": {},
   "outputs": [
    {
     "data": {
      "text/html": [
       "<div>\n",
       "<style scoped>\n",
       "    .dataframe tbody tr th:only-of-type {\n",
       "        vertical-align: middle;\n",
       "    }\n",
       "\n",
       "    .dataframe tbody tr th {\n",
       "        vertical-align: top;\n",
       "    }\n",
       "\n",
       "    .dataframe thead th {\n",
       "        text-align: right;\n",
       "    }\n",
       "</style>\n",
       "<table border=\"1\" class=\"dataframe\">\n",
       "  <thead>\n",
       "    <tr style=\"text-align: right;\">\n",
       "      <th></th>\n",
       "      <th>id</th>\n",
       "      <th>label</th>\n",
       "      <th>tweet</th>\n",
       "    </tr>\n",
       "  </thead>\n",
       "  <tbody>\n",
       "    <tr>\n",
       "      <th>13</th>\n",
       "      <td>14</td>\n",
       "      <td>1</td>\n",
       "      <td>@user #cnn calls #michigan middle school 'build the wall' chant '' #tcot</td>\n",
       "    </tr>\n",
       "    <tr>\n",
       "      <th>14</th>\n",
       "      <td>15</td>\n",
       "      <td>1</td>\n",
       "      <td>no comment!  in #australia   #opkillingbay #seashepherd #helpcovedolphins #thecove  #helpcovedolphins</td>\n",
       "    </tr>\n",
       "    <tr>\n",
       "      <th>17</th>\n",
       "      <td>18</td>\n",
       "      <td>1</td>\n",
       "      <td>retweet if you agree!</td>\n",
       "    </tr>\n",
       "    <tr>\n",
       "      <th>23</th>\n",
       "      <td>24</td>\n",
       "      <td>1</td>\n",
       "      <td>@user @user lumpy says i am a . prove it lumpy.</td>\n",
       "    </tr>\n",
       "    <tr>\n",
       "      <th>34</th>\n",
       "      <td>35</td>\n",
       "      <td>1</td>\n",
       "      <td>it's unbelievable that in the 21st century we'd need something like this. again. #neverump  #xenophobia</td>\n",
       "    </tr>\n",
       "    <tr>\n",
       "      <th>56</th>\n",
       "      <td>57</td>\n",
       "      <td>1</td>\n",
       "      <td>@user lets fight against  #love #peace</td>\n",
       "    </tr>\n",
       "    <tr>\n",
       "      <th>68</th>\n",
       "      <td>69</td>\n",
       "      <td>1</td>\n",
       "      <td>ð©the white establishment can't have blk folx running around loving themselves and promoting our greatness</td>\n",
       "    </tr>\n",
       "    <tr>\n",
       "      <th>77</th>\n",
       "      <td>78</td>\n",
       "      <td>1</td>\n",
       "      <td>@user hey, white people: you can call people 'white' by @user  #race  #identity #medâ¦</td>\n",
       "    </tr>\n",
       "    <tr>\n",
       "      <th>82</th>\n",
       "      <td>83</td>\n",
       "      <td>1</td>\n",
       "      <td>how the #altright uses  &amp;amp; insecurity to lure men into #whitesupremacy</td>\n",
       "    </tr>\n",
       "    <tr>\n",
       "      <th>111</th>\n",
       "      <td>112</td>\n",
       "      <td>1</td>\n",
       "      <td>@user i'm not interested in a #linguistics that doesn't address #race &amp;amp; . racism is about #power. #raciolinguistics bringsâ¦</td>\n",
       "    </tr>\n",
       "  </tbody>\n",
       "</table>\n",
       "</div>"
      ],
      "text/plain": [
       "      id  label  \\\n",
       "13    14      1   \n",
       "14    15      1   \n",
       "17    18      1   \n",
       "23    24      1   \n",
       "34    35      1   \n",
       "56    57      1   \n",
       "68    69      1   \n",
       "77    78      1   \n",
       "82    83      1   \n",
       "111  112      1   \n",
       "\n",
       "                                                                                                                                 tweet  \n",
       "13                                                          @user #cnn calls #michigan middle school 'build the wall' chant '' #tcot    \n",
       "14                               no comment!  in #australia   #opkillingbay #seashepherd #helpcovedolphins #thecove  #helpcovedolphins  \n",
       "17                                                                                                              retweet if you agree!   \n",
       "23                                                                                     @user @user lumpy says i am a . prove it lumpy.  \n",
       "34                            it's unbelievable that in the 21st century we'd need something like this. again. #neverump  #xenophobia   \n",
       "56                                                                                             @user lets fight against  #love #peace   \n",
       "68                      ð©the white establishment can't have blk folx running around loving themselves and promoting our greatness    \n",
       "77                                             @user hey, white people: you can call people 'white' by @user  #race  #identity #medâ¦  \n",
       "82                                                       how the #altright uses  &amp; insecurity to lure men into #whitesupremacy      \n",
       "111  @user i'm not interested in a #linguistics that doesn't address #race &amp; . racism is about #power. #raciolinguistics bringsâ¦  "
      ]
     },
     "execution_count": 12,
     "metadata": {},
     "output_type": "execute_result"
    }
   ],
   "source": [
    "train[train['label']==1].head(10)"
   ]
  },
  {
   "cell_type": "code",
   "execution_count": 13,
   "id": "da42ed41-1b14-4425-9044-dcab3db99ad0",
   "metadata": {},
   "outputs": [
    {
     "data": {
      "text/html": [
       "<div>\n",
       "<style scoped>\n",
       "    .dataframe tbody tr th:only-of-type {\n",
       "        vertical-align: middle;\n",
       "    }\n",
       "\n",
       "    .dataframe tbody tr th {\n",
       "        vertical-align: top;\n",
       "    }\n",
       "\n",
       "    .dataframe thead th {\n",
       "        text-align: right;\n",
       "    }\n",
       "</style>\n",
       "<table border=\"1\" class=\"dataframe\">\n",
       "  <thead>\n",
       "    <tr style=\"text-align: right;\">\n",
       "      <th></th>\n",
       "      <th>id</th>\n",
       "      <th>label</th>\n",
       "      <th>tweet</th>\n",
       "    </tr>\n",
       "  </thead>\n",
       "  <tbody>\n",
       "    <tr>\n",
       "      <th>2739</th>\n",
       "      <td>2740</td>\n",
       "      <td>0</td>\n",
       "      <td>we're   to have mercedes with us tomorrow for some #corporategolf - we hope the #sun stays out!</td>\n",
       "    </tr>\n",
       "    <tr>\n",
       "      <th>12928</th>\n",
       "      <td>12929</td>\n",
       "      <td>0</td>\n",
       "      <td>it's all about the location location location   #lovemyjob #nextplease</td>\n",
       "    </tr>\n",
       "    <tr>\n",
       "      <th>20409</th>\n",
       "      <td>20410</td>\n",
       "      <td>0</td>\n",
       "      <td>how to be happy with yourself?   #happiness #selfrespect #respect #life #lifehacks #love #diy #blog #blogger âº .</td>\n",
       "    </tr>\n",
       "    <tr>\n",
       "      <th>29371</th>\n",
       "      <td>29372</td>\n",
       "      <td>0</td>\n",
       "      <td>adults from now on..ððð²   #18 #2 #both #adults #from #now #fun #happiness #love #this #lifeâ¦</td>\n",
       "    </tr>\n",
       "    <tr>\n",
       "      <th>26914</th>\n",
       "      <td>26915</td>\n",
       "      <td>0</td>\n",
       "      <td>#healthandfitness   attack bull game 3d: do you really think that his head was empty around the city. each s</td>\n",
       "    </tr>\n",
       "    <tr>\n",
       "      <th>24757</th>\n",
       "      <td>24758</td>\n",
       "      <td>0</td>\n",
       "      <td>the galaxy will make you #laugh, #cry, #think, #motivate, #hungry,   &amp;amp; hopefully my friends want to spread the word.</td>\n",
       "    </tr>\n",
       "    <tr>\n",
       "      <th>18690</th>\n",
       "      <td>18691</td>\n",
       "      <td>0</td>\n",
       "      <td>can't wait for @user 's mass shooting aicle to be reposted for the umpteenth time... #pulsenightclubshooting #orlando</td>\n",
       "    </tr>\n",
       "    <tr>\n",
       "      <th>14272</th>\n",
       "      <td>14273</td>\n",
       "      <td>1</td>\n",
       "      <td>.@user you are a disgusting wohless  pig of a human being...assuming you are human.  go play in traffic.</td>\n",
       "    </tr>\n",
       "    <tr>\n",
       "      <th>26262</th>\n",
       "      <td>26263</td>\n",
       "      <td>0</td>\n",
       "      <td>gopro in place and ready to roll! ð #gopro #enduroriding #enduromode #filming #solo  â¦</td>\n",
       "    </tr>\n",
       "    <tr>\n",
       "      <th>25508</th>\n",
       "      <td>25509</td>\n",
       "      <td>1</td>\n",
       "      <td>@user @user i've had these experiences in europe as an american.  is alive and unwell.</td>\n",
       "    </tr>\n",
       "  </tbody>\n",
       "</table>\n",
       "</div>"
      ],
      "text/plain": [
       "          id  label  \\\n",
       "2739    2740      0   \n",
       "12928  12929      0   \n",
       "20409  20410      0   \n",
       "29371  29372      0   \n",
       "26914  26915      0   \n",
       "24757  24758      0   \n",
       "18690  18691      0   \n",
       "14272  14273      1   \n",
       "26262  26263      0   \n",
       "25508  25509      1   \n",
       "\n",
       "                                                                                                                          tweet  \n",
       "2739                           we're   to have mercedes with us tomorrow for some #corporategolf - we hope the #sun stays out!   \n",
       "12928                                                   it's all about the location location location   #lovemyjob #nextplease   \n",
       "20409        how to be happy with yourself?   #happiness #selfrespect #respect #life #lifehacks #love #diy #blog #blogger âº .  \n",
       "29371                  adults from now on..ððð²   #18 #2 #both #adults #from #now #fun #happiness #love #this #lifeâ¦   \n",
       "26914             #healthandfitness   attack bull game 3d: do you really think that his head was empty around the city. each s   \n",
       "24757  the galaxy will make you #laugh, #cry, #think, #motivate, #hungry,   &amp; hopefully my friends want to spread the word.  \n",
       "18690   can't wait for @user 's mass shooting aicle to be reposted for the umpteenth time... #pulsenightclubshooting #orlando    \n",
       "14272                  .@user you are a disgusting wohless  pig of a human being...assuming you are human.  go play in traffic.  \n",
       "26262                              gopro in place and ready to roll! ð #gopro #enduroriding #enduromode #filming #solo  â¦   \n",
       "25508                                    @user @user i've had these experiences in europe as an american.  is alive and unwell.  "
      ]
     },
     "execution_count": 13,
     "metadata": {},
     "output_type": "execute_result"
    }
   ],
   "source": [
    "train.sample(10)"
   ]
  },
  {
   "cell_type": "markdown",
   "id": "41363260-7660-4f0c-8344-accddfc62237",
   "metadata": {},
   "source": [
    "# Data Cleaning"
   ]
  },
  {
   "cell_type": "code",
   "execution_count": 14,
   "id": "0642478d-9c3d-44ae-8f53-6b7022b0fdb8",
   "metadata": {},
   "outputs": [
    {
     "data": {
      "text/plain": [
       "'!\"#$%&\\'()*+,-./:;<=>?@[\\\\]^_`{|}~'"
      ]
     },
     "execution_count": 14,
     "metadata": {},
     "output_type": "execute_result"
    }
   ],
   "source": [
    "string.punctuation"
   ]
  },
  {
   "cell_type": "code",
   "execution_count": 15,
   "id": "e402972a-449b-4032-aa7a-881fc050089c",
   "metadata": {},
   "outputs": [],
   "source": [
    "punctuation = string.punctuation"
   ]
  },
  {
   "cell_type": "code",
   "execution_count": 16,
   "id": "984b007e-4b3b-4bcf-993b-865e2e7d915a",
   "metadata": {},
   "outputs": [],
   "source": [
    "def clean_text(text):\n",
    "    text_clean = []\n",
    "    for i in text:\n",
    "        if i not in punctuation:\n",
    "            text_clean.append(i.lower())\n",
    "    return ''.join(text_clean)"
   ]
  },
  {
   "cell_type": "code",
   "execution_count": 17,
   "id": "6d3e8a0a-14e8-4585-bc76-107dd568533a",
   "metadata": {},
   "outputs": [
    {
     "data": {
      "text/plain": [
       "'relax relax relax enjoymylifeenjoylifeenjoyingenjoy sunnyfafasfenjoylife holiâ\\x80¦ '"
      ]
     },
     "execution_count": 17,
     "metadata": {},
     "output_type": "execute_result"
    }
   ],
   "source": [
    "clean_text(train.iloc[14287, 2])"
   ]
  },
  {
   "cell_type": "code",
   "execution_count": 18,
   "id": "0cdaff27-3e4e-4ee4-bbc7-41114a2dea4c",
   "metadata": {},
   "outputs": [],
   "source": [
    "def clean_text(text):\n",
    "    text_clean = re.findall(r'[a-zA-Z0-9\\']+', text)\n",
    "    return ' '.join(text_clean)"
   ]
  },
  {
   "cell_type": "code",
   "execution_count": 19,
   "id": "d3e5b004-e976-4237-a75e-18833a964ae6",
   "metadata": {},
   "outputs": [
    {
     "data": {
      "text/plain": [
       "'relax relax relax enjoymylife enjoylife enjoying enjoy sunnyfafa sfenjoylife holi'"
      ]
     },
     "execution_count": 19,
     "metadata": {},
     "output_type": "execute_result"
    }
   ],
   "source": [
    "clean_text(train.iloc[14287, 2])"
   ]
  },
  {
   "cell_type": "code",
   "execution_count": 20,
   "id": "a4baf616-527c-43d6-9597-3a069f2ed7fd",
   "metadata": {},
   "outputs": [],
   "source": [
    "train['clean tweet'] = train['tweet'].apply(lambda x: clean_text(x))"
   ]
  },
  {
   "cell_type": "code",
   "execution_count": 21,
   "id": "2a9c75f7-f470-45c6-8eca-f395ba89c940",
   "metadata": {},
   "outputs": [
    {
     "data": {
      "text/html": [
       "<div>\n",
       "<style scoped>\n",
       "    .dataframe tbody tr th:only-of-type {\n",
       "        vertical-align: middle;\n",
       "    }\n",
       "\n",
       "    .dataframe tbody tr th {\n",
       "        vertical-align: top;\n",
       "    }\n",
       "\n",
       "    .dataframe thead th {\n",
       "        text-align: right;\n",
       "    }\n",
       "</style>\n",
       "<table border=\"1\" class=\"dataframe\">\n",
       "  <thead>\n",
       "    <tr style=\"text-align: right;\">\n",
       "      <th></th>\n",
       "      <th>id</th>\n",
       "      <th>label</th>\n",
       "      <th>tweet</th>\n",
       "      <th>clean tweet</th>\n",
       "    </tr>\n",
       "  </thead>\n",
       "  <tbody>\n",
       "    <tr>\n",
       "      <th>0</th>\n",
       "      <td>1</td>\n",
       "      <td>0</td>\n",
       "      <td>@user when a father is dysfunctional and is so selfish he drags his kids into his dysfunction.   #run</td>\n",
       "      <td>user when a father is dysfunctional and is so selfish he drags his kids into his dysfunction run</td>\n",
       "    </tr>\n",
       "    <tr>\n",
       "      <th>1</th>\n",
       "      <td>2</td>\n",
       "      <td>0</td>\n",
       "      <td>@user @user thanks for #lyft credit i can't use cause they don't offer wheelchair vans in pdx.    #disapointed #getthanked</td>\n",
       "      <td>user user thanks for lyft credit i can't use cause they don't offer wheelchair vans in pdx disapointed getthanked</td>\n",
       "    </tr>\n",
       "    <tr>\n",
       "      <th>2</th>\n",
       "      <td>3</td>\n",
       "      <td>0</td>\n",
       "      <td>bihday your majesty</td>\n",
       "      <td>bihday your majesty</td>\n",
       "    </tr>\n",
       "    <tr>\n",
       "      <th>3</th>\n",
       "      <td>4</td>\n",
       "      <td>0</td>\n",
       "      <td>#model   i love u take with u all the time in urð±!!! ðððð",
       "ð¦ð¦ð¦</td>\n",
       "      <td>model i love u take with u all the time in ur</td>\n",
       "    </tr>\n",
       "    <tr>\n",
       "      <th>4</th>\n",
       "      <td>5</td>\n",
       "      <td>0</td>\n",
       "      <td>factsguide: society now    #motivation</td>\n",
       "      <td>factsguide society now motivation</td>\n",
       "    </tr>\n",
       "    <tr>\n",
       "      <th>...</th>\n",
       "      <td>...</td>\n",
       "      <td>...</td>\n",
       "      <td>...</td>\n",
       "      <td>...</td>\n",
       "    </tr>\n",
       "    <tr>\n",
       "      <th>31957</th>\n",
       "      <td>31958</td>\n",
       "      <td>0</td>\n",
       "      <td>ate @user isz that youuu?ðððððððððâ¤ï¸</td>\n",
       "      <td>ate user isz that youuu</td>\n",
       "    </tr>\n",
       "    <tr>\n",
       "      <th>31958</th>\n",
       "      <td>31959</td>\n",
       "      <td>0</td>\n",
       "      <td>to see nina turner on the airwaves trying to wrap herself in the mantle of a genuine hero like shirley chisolm. #shame #imwithher</td>\n",
       "      <td>to see nina turner on the airwaves trying to wrap herself in the mantle of a genuine hero like shirley chisolm shame imwithher</td>\n",
       "    </tr>\n",
       "    <tr>\n",
       "      <th>31959</th>\n",
       "      <td>31960</td>\n",
       "      <td>0</td>\n",
       "      <td>listening to sad songs on a monday morning otw to work is sad</td>\n",
       "      <td>listening to sad songs on a monday morning otw to work is sad</td>\n",
       "    </tr>\n",
       "    <tr>\n",
       "      <th>31960</th>\n",
       "      <td>31961</td>\n",
       "      <td>1</td>\n",
       "      <td>@user #sikh #temple vandalised in in #calgary, #wso condemns  act</td>\n",
       "      <td>user sikh temple vandalised in in calgary wso condemns act</td>\n",
       "    </tr>\n",
       "    <tr>\n",
       "      <th>31961</th>\n",
       "      <td>31962</td>\n",
       "      <td>0</td>\n",
       "      <td>thank you @user for you follow</td>\n",
       "      <td>thank you user for you follow</td>\n",
       "    </tr>\n",
       "  </tbody>\n",
       "</table>\n",
       "<p>31962 rows × 4 columns</p>\n",
       "</div>"
      ],
      "text/plain": [
       "          id  label  \\\n",
       "0          1      0   \n",
       "1          2      0   \n",
       "2          3      0   \n",
       "3          4      0   \n",
       "4          5      0   \n",
       "...      ...    ...   \n",
       "31957  31958      0   \n",
       "31958  31959      0   \n",
       "31959  31960      0   \n",
       "31960  31961      1   \n",
       "31961  31962      0   \n",
       "\n",
       "                                                                                                                                     tweet  \\\n",
       "0                                    @user when a father is dysfunctional and is so selfish he drags his kids into his dysfunction.   #run   \n",
       "1               @user @user thanks for #lyft credit i can't use cause they don't offer wheelchair vans in pdx.    #disapointed #getthanked   \n",
       "2                                                                                                                      bihday your majesty   \n",
       "3                                                   #model   i love u take with u all the time in urð±!!! ðððð\n",
       "ð¦ð¦ð¦     \n",
       "4                                                                                                   factsguide: society now    #motivation   \n",
       "...                                                                                                                                    ...   \n",
       "31957                                                                 ate @user isz that youuu?ðððððððððâ¤ï¸    \n",
       "31958    to see nina turner on the airwaves trying to wrap herself in the mantle of a genuine hero like shirley chisolm. #shame #imwithher   \n",
       "31959                                                                      listening to sad songs on a monday morning otw to work is sad     \n",
       "31960                                                                  @user #sikh #temple vandalised in in #calgary, #wso condemns  act     \n",
       "31961                                                                                                     thank you @user for you follow     \n",
       "\n",
       "                                                                                                                          clean tweet  \n",
       "0                                    user when a father is dysfunctional and is so selfish he drags his kids into his dysfunction run  \n",
       "1                   user user thanks for lyft credit i can't use cause they don't offer wheelchair vans in pdx disapointed getthanked  \n",
       "2                                                                                                                 bihday your majesty  \n",
       "3                                                                                       model i love u take with u all the time in ur  \n",
       "4                                                                                                   factsguide society now motivation  \n",
       "...                                                                                                                               ...  \n",
       "31957                                                                                                         ate user isz that youuu  \n",
       "31958  to see nina turner on the airwaves trying to wrap herself in the mantle of a genuine hero like shirley chisolm shame imwithher  \n",
       "31959                                                                   listening to sad songs on a monday morning otw to work is sad  \n",
       "31960                                                                      user sikh temple vandalised in in calgary wso condemns act  \n",
       "31961                                                                                                   thank you user for you follow  \n",
       "\n",
       "[31962 rows x 4 columns]"
      ]
     },
     "execution_count": 21,
     "metadata": {},
     "output_type": "execute_result"
    }
   ],
   "source": [
    "train"
   ]
  },
  {
   "cell_type": "markdown",
   "id": "21ceb367-567d-43c5-8791-fff44b3b79d8",
   "metadata": {},
   "source": [
    "## counts"
   ]
  },
  {
   "cell_type": "code",
   "execution_count": 22,
   "id": "0cc85561-076b-4fa7-88d2-c3417a20244b",
   "metadata": {},
   "outputs": [],
   "source": [
    "train['wordcount'] = train['clean tweet'].apply(lambda x: len(x.split()))"
   ]
  },
  {
   "cell_type": "code",
   "execution_count": 23,
   "id": "4677a132-9bc2-46e0-a486-ba24fa328d2e",
   "metadata": {},
   "outputs": [],
   "source": [
    "train['charcount'] = train['clean tweet'].apply(lambda x: len(x))"
   ]
  },
  {
   "cell_type": "code",
   "execution_count": 24,
   "id": "ec9a3713-101a-4333-aa33-b22851d2e6c4",
   "metadata": {},
   "outputs": [],
   "source": [
    "train['mentions'] = train['tweet'].apply(lambda x: x.count('@'))"
   ]
  },
  {
   "cell_type": "code",
   "execution_count": 25,
   "id": "6806ed2c-33a8-4e53-a8c6-5ab88dcdc9ea",
   "metadata": {},
   "outputs": [],
   "source": [
    "train['hashtags'] = train['tweet'].apply(lambda x: x.count('#'))"
   ]
  },
  {
   "cell_type": "code",
   "execution_count": 26,
   "id": "e900c02d-316b-4425-920d-751cb9c07606",
   "metadata": {},
   "outputs": [
    {
     "data": {
      "text/html": [
       "<div>\n",
       "<style scoped>\n",
       "    .dataframe tbody tr th:only-of-type {\n",
       "        vertical-align: middle;\n",
       "    }\n",
       "\n",
       "    .dataframe tbody tr th {\n",
       "        vertical-align: top;\n",
       "    }\n",
       "\n",
       "    .dataframe thead th {\n",
       "        text-align: right;\n",
       "    }\n",
       "</style>\n",
       "<table border=\"1\" class=\"dataframe\">\n",
       "  <thead>\n",
       "    <tr style=\"text-align: right;\">\n",
       "      <th></th>\n",
       "      <th>id</th>\n",
       "      <th>label</th>\n",
       "      <th>tweet</th>\n",
       "      <th>clean tweet</th>\n",
       "      <th>wordcount</th>\n",
       "      <th>charcount</th>\n",
       "      <th>mentions</th>\n",
       "      <th>hashtags</th>\n",
       "    </tr>\n",
       "  </thead>\n",
       "  <tbody>\n",
       "    <tr>\n",
       "      <th>0</th>\n",
       "      <td>1</td>\n",
       "      <td>0</td>\n",
       "      <td>@user when a father is dysfunctional and is so selfish he drags his kids into his dysfunction.   #run</td>\n",
       "      <td>user when a father is dysfunctional and is so selfish he drags his kids into his dysfunction run</td>\n",
       "      <td>18</td>\n",
       "      <td>96</td>\n",
       "      <td>1</td>\n",
       "      <td>1</td>\n",
       "    </tr>\n",
       "    <tr>\n",
       "      <th>1</th>\n",
       "      <td>2</td>\n",
       "      <td>0</td>\n",
       "      <td>@user @user thanks for #lyft credit i can't use cause they don't offer wheelchair vans in pdx.    #disapointed #getthanked</td>\n",
       "      <td>user user thanks for lyft credit i can't use cause they don't offer wheelchair vans in pdx disapointed getthanked</td>\n",
       "      <td>19</td>\n",
       "      <td>113</td>\n",
       "      <td>2</td>\n",
       "      <td>3</td>\n",
       "    </tr>\n",
       "    <tr>\n",
       "      <th>2</th>\n",
       "      <td>3</td>\n",
       "      <td>0</td>\n",
       "      <td>bihday your majesty</td>\n",
       "      <td>bihday your majesty</td>\n",
       "      <td>3</td>\n",
       "      <td>19</td>\n",
       "      <td>0</td>\n",
       "      <td>0</td>\n",
       "    </tr>\n",
       "    <tr>\n",
       "      <th>3</th>\n",
       "      <td>4</td>\n",
       "      <td>0</td>\n",
       "      <td>#model   i love u take with u all the time in urð±!!! ðððð",
       "ð¦ð¦ð¦</td>\n",
       "      <td>model i love u take with u all the time in ur</td>\n",
       "      <td>12</td>\n",
       "      <td>45</td>\n",
       "      <td>0</td>\n",
       "      <td>1</td>\n",
       "    </tr>\n",
       "    <tr>\n",
       "      <th>4</th>\n",
       "      <td>5</td>\n",
       "      <td>0</td>\n",
       "      <td>factsguide: society now    #motivation</td>\n",
       "      <td>factsguide society now motivation</td>\n",
       "      <td>4</td>\n",
       "      <td>33</td>\n",
       "      <td>0</td>\n",
       "      <td>1</td>\n",
       "    </tr>\n",
       "    <tr>\n",
       "      <th>...</th>\n",
       "      <td>...</td>\n",
       "      <td>...</td>\n",
       "      <td>...</td>\n",
       "      <td>...</td>\n",
       "      <td>...</td>\n",
       "      <td>...</td>\n",
       "      <td>...</td>\n",
       "      <td>...</td>\n",
       "    </tr>\n",
       "    <tr>\n",
       "      <th>31957</th>\n",
       "      <td>31958</td>\n",
       "      <td>0</td>\n",
       "      <td>ate @user isz that youuu?ðððððððððâ¤ï¸</td>\n",
       "      <td>ate user isz that youuu</td>\n",
       "      <td>5</td>\n",
       "      <td>23</td>\n",
       "      <td>1</td>\n",
       "      <td>0</td>\n",
       "    </tr>\n",
       "    <tr>\n",
       "      <th>31958</th>\n",
       "      <td>31959</td>\n",
       "      <td>0</td>\n",
       "      <td>to see nina turner on the airwaves trying to wrap herself in the mantle of a genuine hero like shirley chisolm. #shame #imwithher</td>\n",
       "      <td>to see nina turner on the airwaves trying to wrap herself in the mantle of a genuine hero like shirley chisolm shame imwithher</td>\n",
       "      <td>23</td>\n",
       "      <td>126</td>\n",
       "      <td>0</td>\n",
       "      <td>2</td>\n",
       "    </tr>\n",
       "    <tr>\n",
       "      <th>31959</th>\n",
       "      <td>31960</td>\n",
       "      <td>0</td>\n",
       "      <td>listening to sad songs on a monday morning otw to work is sad</td>\n",
       "      <td>listening to sad songs on a monday morning otw to work is sad</td>\n",
       "      <td>13</td>\n",
       "      <td>61</td>\n",
       "      <td>0</td>\n",
       "      <td>0</td>\n",
       "    </tr>\n",
       "    <tr>\n",
       "      <th>31960</th>\n",
       "      <td>31961</td>\n",
       "      <td>1</td>\n",
       "      <td>@user #sikh #temple vandalised in in #calgary, #wso condemns  act</td>\n",
       "      <td>user sikh temple vandalised in in calgary wso condemns act</td>\n",
       "      <td>10</td>\n",
       "      <td>58</td>\n",
       "      <td>1</td>\n",
       "      <td>4</td>\n",
       "    </tr>\n",
       "    <tr>\n",
       "      <th>31961</th>\n",
       "      <td>31962</td>\n",
       "      <td>0</td>\n",
       "      <td>thank you @user for you follow</td>\n",
       "      <td>thank you user for you follow</td>\n",
       "      <td>6</td>\n",
       "      <td>29</td>\n",
       "      <td>1</td>\n",
       "      <td>0</td>\n",
       "    </tr>\n",
       "  </tbody>\n",
       "</table>\n",
       "<p>31962 rows × 8 columns</p>\n",
       "</div>"
      ],
      "text/plain": [
       "          id  label  \\\n",
       "0          1      0   \n",
       "1          2      0   \n",
       "2          3      0   \n",
       "3          4      0   \n",
       "4          5      0   \n",
       "...      ...    ...   \n",
       "31957  31958      0   \n",
       "31958  31959      0   \n",
       "31959  31960      0   \n",
       "31960  31961      1   \n",
       "31961  31962      0   \n",
       "\n",
       "                                                                                                                                     tweet  \\\n",
       "0                                    @user when a father is dysfunctional and is so selfish he drags his kids into his dysfunction.   #run   \n",
       "1               @user @user thanks for #lyft credit i can't use cause they don't offer wheelchair vans in pdx.    #disapointed #getthanked   \n",
       "2                                                                                                                      bihday your majesty   \n",
       "3                                                   #model   i love u take with u all the time in urð±!!! ðððð\n",
       "ð¦ð¦ð¦     \n",
       "4                                                                                                   factsguide: society now    #motivation   \n",
       "...                                                                                                                                    ...   \n",
       "31957                                                                 ate @user isz that youuu?ðððððððððâ¤ï¸    \n",
       "31958    to see nina turner on the airwaves trying to wrap herself in the mantle of a genuine hero like shirley chisolm. #shame #imwithher   \n",
       "31959                                                                      listening to sad songs on a monday morning otw to work is sad     \n",
       "31960                                                                  @user #sikh #temple vandalised in in #calgary, #wso condemns  act     \n",
       "31961                                                                                                     thank you @user for you follow     \n",
       "\n",
       "                                                                                                                          clean tweet  \\\n",
       "0                                    user when a father is dysfunctional and is so selfish he drags his kids into his dysfunction run   \n",
       "1                   user user thanks for lyft credit i can't use cause they don't offer wheelchair vans in pdx disapointed getthanked   \n",
       "2                                                                                                                 bihday your majesty   \n",
       "3                                                                                       model i love u take with u all the time in ur   \n",
       "4                                                                                                   factsguide society now motivation   \n",
       "...                                                                                                                               ...   \n",
       "31957                                                                                                         ate user isz that youuu   \n",
       "31958  to see nina turner on the airwaves trying to wrap herself in the mantle of a genuine hero like shirley chisolm shame imwithher   \n",
       "31959                                                                   listening to sad songs on a monday morning otw to work is sad   \n",
       "31960                                                                      user sikh temple vandalised in in calgary wso condemns act   \n",
       "31961                                                                                                   thank you user for you follow   \n",
       "\n",
       "       wordcount  charcount  mentions  hashtags  \n",
       "0             18         96         1         1  \n",
       "1             19        113         2         3  \n",
       "2              3         19         0         0  \n",
       "3             12         45         0         1  \n",
       "4              4         33         0         1  \n",
       "...          ...        ...       ...       ...  \n",
       "31957          5         23         1         0  \n",
       "31958         23        126         0         2  \n",
       "31959         13         61         0         0  \n",
       "31960         10         58         1         4  \n",
       "31961          6         29         1         0  \n",
       "\n",
       "[31962 rows x 8 columns]"
      ]
     },
     "execution_count": 26,
     "metadata": {},
     "output_type": "execute_result"
    }
   ],
   "source": [
    "train"
   ]
  },
  {
   "cell_type": "markdown",
   "id": "01cedbd0-3263-4cf4-baee-6cc2c615c318",
   "metadata": {},
   "source": [
    "## Linguistic features"
   ]
  },
  {
   "cell_type": "code",
   "execution_count": 27,
   "id": "15a660b5-4cbf-4b13-9d1c-d1f753b397d1",
   "metadata": {},
   "outputs": [],
   "source": [
    "import spacy"
   ]
  },
  {
   "cell_type": "code",
   "execution_count": 28,
   "id": "2d194f31-3735-46f0-b8fb-9aed2a99a0f6",
   "metadata": {},
   "outputs": [],
   "source": [
    "nlp = spacy.load('en_core_web_sm')"
   ]
  },
  {
   "cell_type": "code",
   "execution_count": 29,
   "id": "2e836bb0-a06e-4b62-a198-57cf2cd8a3df",
   "metadata": {},
   "outputs": [
    {
     "name": "stdout",
     "output_type": "stream",
     "text": [
      "\u001b[1m\n",
      "============================= Pipeline Overview =============================\u001b[0m\n",
      "\n",
      "#   Component         Assigns               Requires   Scores             Retokenizes\n",
      "-   ---------------   -------------------   --------   ----------------   -----------\n",
      "0   tok2vec           doc.tensor                                          False      \n",
      "                                                                                     \n",
      "1   tagger            token.tag                        tag_acc            False      \n",
      "                                                                                     \n",
      "2   parser            token.dep                        dep_uas            False      \n",
      "                      token.head                       dep_las                       \n",
      "                      token.is_sent_start              dep_las_per_type              \n",
      "                      doc.sents                        sents_p                       \n",
      "                                                       sents_r                       \n",
      "                                                       sents_f                       \n",
      "                                                                                     \n",
      "3   attribute_ruler                                                       False      \n",
      "                                                                                     \n",
      "4   lemmatizer        token.lemma                      lemma_acc          False      \n",
      "                                                                                     \n",
      "5   ner               doc.ents                         ents_f             False      \n",
      "                      token.ent_iob                    ents_p                        \n",
      "                      token.ent_type                   ents_r                        \n",
      "                                                       ents_per_type                 \n",
      "\n",
      "✔ No problems found.\n"
     ]
    }
   ],
   "source": [
    "p = nlp.analyze_pipes(pretty=True)"
   ]
  },
  {
   "cell_type": "code",
   "execution_count": 30,
   "id": "c135a6eb-792b-495e-87e3-8cde9cc744c2",
   "metadata": {},
   "outputs": [],
   "source": [
    "def lemma(texts):\n",
    "    lemma_list = []\n",
    "    for doc in nlp.pipe(texts, n_process=2, batch_size=500, disable=['ner', 'tagger', 'parser', 'attribute_ruler']):\n",
    "        tokens = [token.lemma_ for token in doc if token.is_stop==False]\n",
    "        lemma_list.append(' '.join(tokens))\n",
    "    return lemma_list"
   ]
  },
  {
   "cell_type": "code",
   "execution_count": 31,
   "id": "3a9df93d-e99f-4935-81c4-4b09ea02369d",
   "metadata": {},
   "outputs": [],
   "source": [
    "train['lemmas'] = lemma(train['clean tweet'].values)"
   ]
  },
  {
   "cell_type": "code",
   "execution_count": 32,
   "id": "b56e70d4-cf79-48d5-be81-937651aced66",
   "metadata": {},
   "outputs": [],
   "source": [
    "def noun_count(texts):\n",
    "    noun_list = []\n",
    "    for doc in nlp.pipe(texts, n_process=2, batch_size=100, disable=['ner', 'parser', 'lemmatizer']):\n",
    "        n = 0\n",
    "        for token in doc:\n",
    "            if token.pos_ == 'NOUN' or token.pos_ == 'PROPN':\n",
    "                n += 1\n",
    "        noun_list.append(n)\n",
    "    return noun_list"
   ]
  },
  {
   "cell_type": "code",
   "execution_count": 33,
   "id": "9ee3769a-001e-47d1-81bb-056a805a8f32",
   "metadata": {},
   "outputs": [],
   "source": [
    "train['nouncount'] = noun_count(train['clean tweet'].values)"
   ]
  },
  {
   "cell_type": "code",
   "execution_count": 34,
   "id": "f5d5db8e-51c5-4764-8cad-5808d6eab620",
   "metadata": {},
   "outputs": [],
   "source": [
    "def verb_count(texts):\n",
    "    verb_list = []\n",
    "    for doc in nlp.pipe(texts, n_process=2, batch_size=100, disable=['ner', 'parser', 'lemmatizer']):\n",
    "        n = 0\n",
    "        for token in doc:\n",
    "            if token.pos_ == 'VERB':\n",
    "                n += 1\n",
    "        verb_list.append(n)\n",
    "    return verb_list"
   ]
  },
  {
   "cell_type": "code",
   "execution_count": 35,
   "id": "32f84bb6-e123-4d2c-8477-1738442d1943",
   "metadata": {},
   "outputs": [],
   "source": [
    "train['verbcount'] = verb_count(train['clean tweet'].values)"
   ]
  },
  {
   "cell_type": "code",
   "execution_count": 36,
   "id": "456931a6-0068-476d-bd7d-c4cae62fbb02",
   "metadata": {},
   "outputs": [],
   "source": [
    "def adjective_count(texts):\n",
    "    adj_list = []\n",
    "    for doc in nlp.pipe(texts, n_process=2, batch_size=100, disable=['ner', 'parser', 'lemmatizer']):\n",
    "        n = 0\n",
    "        for token in doc:\n",
    "            if token.pos_ == 'ADJ':\n",
    "                n += 1\n",
    "        adj_list.append(n)\n",
    "    return adj_list"
   ]
  },
  {
   "cell_type": "code",
   "execution_count": 37,
   "id": "0004dace-1aee-4bc5-8997-8e89b855e19c",
   "metadata": {},
   "outputs": [],
   "source": [
    "train['adjcount'] = adjective_count(train['clean tweet'].values)"
   ]
  },
  {
   "cell_type": "code",
   "execution_count": 38,
   "id": "9dbdd5bf-9b84-4d7d-a93f-f7f4d003a037",
   "metadata": {},
   "outputs": [
    {
     "data": {
      "text/html": [
       "<div>\n",
       "<style scoped>\n",
       "    .dataframe tbody tr th:only-of-type {\n",
       "        vertical-align: middle;\n",
       "    }\n",
       "\n",
       "    .dataframe tbody tr th {\n",
       "        vertical-align: top;\n",
       "    }\n",
       "\n",
       "    .dataframe thead th {\n",
       "        text-align: right;\n",
       "    }\n",
       "</style>\n",
       "<table border=\"1\" class=\"dataframe\">\n",
       "  <thead>\n",
       "    <tr style=\"text-align: right;\">\n",
       "      <th></th>\n",
       "      <th>id</th>\n",
       "      <th>label</th>\n",
       "      <th>tweet</th>\n",
       "      <th>clean tweet</th>\n",
       "      <th>wordcount</th>\n",
       "      <th>charcount</th>\n",
       "      <th>mentions</th>\n",
       "      <th>hashtags</th>\n",
       "      <th>lemmas</th>\n",
       "      <th>nouncount</th>\n",
       "      <th>verbcount</th>\n",
       "      <th>adjcount</th>\n",
       "    </tr>\n",
       "  </thead>\n",
       "  <tbody>\n",
       "    <tr>\n",
       "      <th>0</th>\n",
       "      <td>1</td>\n",
       "      <td>0</td>\n",
       "      <td>@user when a father is dysfunctional and is so selfish he drags his kids into his dysfunction.   #run</td>\n",
       "      <td>user when a father is dysfunctional and is so selfish he drags his kids into his dysfunction run</td>\n",
       "      <td>18</td>\n",
       "      <td>96</td>\n",
       "      <td>1</td>\n",
       "      <td>1</td>\n",
       "      <td>user father dysfunctional selfish drags kids dysfunction run</td>\n",
       "      <td>5</td>\n",
       "      <td>1</td>\n",
       "      <td>2</td>\n",
       "    </tr>\n",
       "    <tr>\n",
       "      <th>1</th>\n",
       "      <td>2</td>\n",
       "      <td>0</td>\n",
       "      <td>@user @user thanks for #lyft credit i can't use cause they don't offer wheelchair vans in pdx.    #disapointed #getthanked</td>\n",
       "      <td>user user thanks for lyft credit i can't use cause they don't offer wheelchair vans in pdx disapointed getthanked</td>\n",
       "      <td>19</td>\n",
       "      <td>113</td>\n",
       "      <td>2</td>\n",
       "      <td>3</td>\n",
       "      <td>user user thanks lyft credit use cause offer wheelchair vans pdx disapointed getthanked</td>\n",
       "      <td>8</td>\n",
       "      <td>4</td>\n",
       "      <td>0</td>\n",
       "    </tr>\n",
       "    <tr>\n",
       "      <th>2</th>\n",
       "      <td>3</td>\n",
       "      <td>0</td>\n",
       "      <td>bihday your majesty</td>\n",
       "      <td>bihday your majesty</td>\n",
       "      <td>3</td>\n",
       "      <td>19</td>\n",
       "      <td>0</td>\n",
       "      <td>0</td>\n",
       "      <td>bihday majesty</td>\n",
       "      <td>2</td>\n",
       "      <td>0</td>\n",
       "      <td>0</td>\n",
       "    </tr>\n",
       "    <tr>\n",
       "      <th>3</th>\n",
       "      <td>4</td>\n",
       "      <td>0</td>\n",
       "      <td>#model   i love u take with u all the time in urð±!!! ðððð",
       "ð¦ð¦ð¦</td>\n",
       "      <td>model i love u take with u all the time in ur</td>\n",
       "      <td>12</td>\n",
       "      <td>45</td>\n",
       "      <td>0</td>\n",
       "      <td>1</td>\n",
       "      <td>model love u u time ur</td>\n",
       "      <td>4</td>\n",
       "      <td>2</td>\n",
       "      <td>0</td>\n",
       "    </tr>\n",
       "    <tr>\n",
       "      <th>4</th>\n",
       "      <td>5</td>\n",
       "      <td>0</td>\n",
       "      <td>factsguide: society now    #motivation</td>\n",
       "      <td>factsguide society now motivation</td>\n",
       "      <td>4</td>\n",
       "      <td>33</td>\n",
       "      <td>0</td>\n",
       "      <td>1</td>\n",
       "      <td>factsguide society motivation</td>\n",
       "      <td>1</td>\n",
       "      <td>1</td>\n",
       "      <td>1</td>\n",
       "    </tr>\n",
       "    <tr>\n",
       "      <th>...</th>\n",
       "      <td>...</td>\n",
       "      <td>...</td>\n",
       "      <td>...</td>\n",
       "      <td>...</td>\n",
       "      <td>...</td>\n",
       "      <td>...</td>\n",
       "      <td>...</td>\n",
       "      <td>...</td>\n",
       "      <td>...</td>\n",
       "      <td>...</td>\n",
       "      <td>...</td>\n",
       "      <td>...</td>\n",
       "    </tr>\n",
       "    <tr>\n",
       "      <th>31957</th>\n",
       "      <td>31958</td>\n",
       "      <td>0</td>\n",
       "      <td>ate @user isz that youuu?ðððððððððâ¤ï¸</td>\n",
       "      <td>ate user isz that youuu</td>\n",
       "      <td>5</td>\n",
       "      <td>23</td>\n",
       "      <td>1</td>\n",
       "      <td>0</td>\n",
       "      <td>ate user isz youuu</td>\n",
       "      <td>3</td>\n",
       "      <td>1</td>\n",
       "      <td>0</td>\n",
       "    </tr>\n",
       "    <tr>\n",
       "      <th>31958</th>\n",
       "      <td>31959</td>\n",
       "      <td>0</td>\n",
       "      <td>to see nina turner on the airwaves trying to wrap herself in the mantle of a genuine hero like shirley chisolm. #shame #imwithher</td>\n",
       "      <td>to see nina turner on the airwaves trying to wrap herself in the mantle of a genuine hero like shirley chisolm shame imwithher</td>\n",
       "      <td>23</td>\n",
       "      <td>126</td>\n",
       "      <td>0</td>\n",
       "      <td>2</td>\n",
       "      <td>nina turner airwaves trying wrap mantle genuine hero like shirley chisolm shame imwithher</td>\n",
       "      <td>9</td>\n",
       "      <td>3</td>\n",
       "      <td>1</td>\n",
       "    </tr>\n",
       "    <tr>\n",
       "      <th>31959</th>\n",
       "      <td>31960</td>\n",
       "      <td>0</td>\n",
       "      <td>listening to sad songs on a monday morning otw to work is sad</td>\n",
       "      <td>listening to sad songs on a monday morning otw to work is sad</td>\n",
       "      <td>13</td>\n",
       "      <td>61</td>\n",
       "      <td>0</td>\n",
       "      <td>0</td>\n",
       "      <td>listening sad songs monday morning otw work sad</td>\n",
       "      <td>4</td>\n",
       "      <td>2</td>\n",
       "      <td>2</td>\n",
       "    </tr>\n",
       "    <tr>\n",
       "      <th>31960</th>\n",
       "      <td>31961</td>\n",
       "      <td>1</td>\n",
       "      <td>@user #sikh #temple vandalised in in #calgary, #wso condemns  act</td>\n",
       "      <td>user sikh temple vandalised in in calgary wso condemns act</td>\n",
       "      <td>10</td>\n",
       "      <td>58</td>\n",
       "      <td>1</td>\n",
       "      <td>4</td>\n",
       "      <td>user sikh temple vandalised calgary wso condemns act</td>\n",
       "      <td>5</td>\n",
       "      <td>2</td>\n",
       "      <td>1</td>\n",
       "    </tr>\n",
       "    <tr>\n",
       "      <th>31961</th>\n",
       "      <td>31962</td>\n",
       "      <td>0</td>\n",
       "      <td>thank you @user for you follow</td>\n",
       "      <td>thank you user for you follow</td>\n",
       "      <td>6</td>\n",
       "      <td>29</td>\n",
       "      <td>1</td>\n",
       "      <td>0</td>\n",
       "      <td>thank user follow</td>\n",
       "      <td>1</td>\n",
       "      <td>2</td>\n",
       "      <td>0</td>\n",
       "    </tr>\n",
       "  </tbody>\n",
       "</table>\n",
       "<p>31962 rows × 12 columns</p>\n",
       "</div>"
      ],
      "text/plain": [
       "          id  label  \\\n",
       "0          1      0   \n",
       "1          2      0   \n",
       "2          3      0   \n",
       "3          4      0   \n",
       "4          5      0   \n",
       "...      ...    ...   \n",
       "31957  31958      0   \n",
       "31958  31959      0   \n",
       "31959  31960      0   \n",
       "31960  31961      1   \n",
       "31961  31962      0   \n",
       "\n",
       "                                                                                                                                     tweet  \\\n",
       "0                                    @user when a father is dysfunctional and is so selfish he drags his kids into his dysfunction.   #run   \n",
       "1               @user @user thanks for #lyft credit i can't use cause they don't offer wheelchair vans in pdx.    #disapointed #getthanked   \n",
       "2                                                                                                                      bihday your majesty   \n",
       "3                                                   #model   i love u take with u all the time in urð±!!! ðððð\n",
       "ð¦ð¦ð¦     \n",
       "4                                                                                                   factsguide: society now    #motivation   \n",
       "...                                                                                                                                    ...   \n",
       "31957                                                                 ate @user isz that youuu?ðððððððððâ¤ï¸    \n",
       "31958    to see nina turner on the airwaves trying to wrap herself in the mantle of a genuine hero like shirley chisolm. #shame #imwithher   \n",
       "31959                                                                      listening to sad songs on a monday morning otw to work is sad     \n",
       "31960                                                                  @user #sikh #temple vandalised in in #calgary, #wso condemns  act     \n",
       "31961                                                                                                     thank you @user for you follow     \n",
       "\n",
       "                                                                                                                          clean tweet  \\\n",
       "0                                    user when a father is dysfunctional and is so selfish he drags his kids into his dysfunction run   \n",
       "1                   user user thanks for lyft credit i can't use cause they don't offer wheelchair vans in pdx disapointed getthanked   \n",
       "2                                                                                                                 bihday your majesty   \n",
       "3                                                                                       model i love u take with u all the time in ur   \n",
       "4                                                                                                   factsguide society now motivation   \n",
       "...                                                                                                                               ...   \n",
       "31957                                                                                                         ate user isz that youuu   \n",
       "31958  to see nina turner on the airwaves trying to wrap herself in the mantle of a genuine hero like shirley chisolm shame imwithher   \n",
       "31959                                                                   listening to sad songs on a monday morning otw to work is sad   \n",
       "31960                                                                      user sikh temple vandalised in in calgary wso condemns act   \n",
       "31961                                                                                                   thank you user for you follow   \n",
       "\n",
       "       wordcount  charcount  mentions  hashtags  \\\n",
       "0             18         96         1         1   \n",
       "1             19        113         2         3   \n",
       "2              3         19         0         0   \n",
       "3             12         45         0         1   \n",
       "4              4         33         0         1   \n",
       "...          ...        ...       ...       ...   \n",
       "31957          5         23         1         0   \n",
       "31958         23        126         0         2   \n",
       "31959         13         61         0         0   \n",
       "31960         10         58         1         4   \n",
       "31961          6         29         1         0   \n",
       "\n",
       "                                                                                          lemmas  \\\n",
       "0                                   user father dysfunctional selfish drags kids dysfunction run   \n",
       "1        user user thanks lyft credit use cause offer wheelchair vans pdx disapointed getthanked   \n",
       "2                                                                                 bihday majesty   \n",
       "3                                                                         model love u u time ur   \n",
       "4                                                                  factsguide society motivation   \n",
       "...                                                                                          ...   \n",
       "31957                                                                         ate user isz youuu   \n",
       "31958  nina turner airwaves trying wrap mantle genuine hero like shirley chisolm shame imwithher   \n",
       "31959                                            listening sad songs monday morning otw work sad   \n",
       "31960                                       user sikh temple vandalised calgary wso condemns act   \n",
       "31961                                                                          thank user follow   \n",
       "\n",
       "       nouncount  verbcount  adjcount  \n",
       "0              5          1         2  \n",
       "1              8          4         0  \n",
       "2              2          0         0  \n",
       "3              4          2         0  \n",
       "4              1          1         1  \n",
       "...          ...        ...       ...  \n",
       "31957          3          1         0  \n",
       "31958          9          3         1  \n",
       "31959          4          2         2  \n",
       "31960          5          2         1  \n",
       "31961          1          2         0  \n",
       "\n",
       "[31962 rows x 12 columns]"
      ]
     },
     "execution_count": 38,
     "metadata": {},
     "output_type": "execute_result"
    }
   ],
   "source": [
    "train"
   ]
  },
  {
   "cell_type": "markdown",
   "id": "b4d9387a-e2c1-48f1-81f1-465478d221f6",
   "metadata": {},
   "source": [
    "# train set Predictions"
   ]
  },
  {
   "cell_type": "code",
   "execution_count": 123,
   "id": "0906a96e-ba5c-460f-84e7-74b6739ee635",
   "metadata": {},
   "outputs": [],
   "source": [
    "from sklearn.model_selection import train_test_split, cross_val_score\n",
    "from sklearn.feature_extraction.text import CountVectorizer, TfidfVectorizer\n",
    "from sklearn.naive_bayes import MultinomialNB, BernoulliNB\n",
    "from sklearn.linear_model import LogisticRegression\n",
    "from sklearn.ensemble import GradientBoostingClassifier\n",
    "from sklearn.metrics import f1_score, classification_report, ConfusionMatrixDisplay, RocCurveDisplay, DetCurveDisplay"
   ]
  },
  {
   "cell_type": "code",
   "execution_count": 40,
   "id": "1cc610ba-f2f2-4ebc-9822-dc974e5ef4a4",
   "metadata": {},
   "outputs": [],
   "source": [
    "from sklearn.utils import all_estimators"
   ]
  },
  {
   "cell_type": "code",
   "execution_count": 41,
   "id": "61bcea48-8ac4-4198-8e66-d26fabc3ed5a",
   "metadata": {},
   "outputs": [],
   "source": [
    "from scipy.sparse import hstack, csr_matrix"
   ]
  },
  {
   "cell_type": "code",
   "execution_count": 279,
   "id": "bc24be24-1bfe-4b18-8cbd-9fdec6dd9228",
   "metadata": {},
   "outputs": [],
   "source": [
    "count = CountVectorizer(stop_words='english', min_df=2)"
   ]
  },
  {
   "cell_type": "code",
   "execution_count": 280,
   "id": "5a4428e8-a1f1-424f-b0b6-0d4e852ce2b8",
   "metadata": {},
   "outputs": [],
   "source": [
    "count_vectors = count.fit_transform(train['clean tweet'])"
   ]
  },
  {
   "cell_type": "code",
   "execution_count": 281,
   "id": "4959f401-2697-4fba-bcd8-2a1679a93943",
   "metadata": {},
   "outputs": [
    {
     "data": {
      "text/plain": [
       "<31962x14648 sparse matrix of type '<class 'numpy.int64'>'\n",
       "\twith 211598 stored elements in Compressed Sparse Row format>"
      ]
     },
     "execution_count": 281,
     "metadata": {},
     "output_type": "execute_result"
    }
   ],
   "source": [
    "count_vectors"
   ]
  },
  {
   "cell_type": "code",
   "execution_count": 305,
   "id": "7e462b01-5867-4605-b24a-60646ed16a93",
   "metadata": {},
   "outputs": [],
   "source": [
    "tfidf = TfidfVectorizer(max_features=5000, ngram_range=(1, 3))"
   ]
  },
  {
   "cell_type": "code",
   "execution_count": 306,
   "id": "05a83eaa-3f50-4e1c-bb35-3b37571f70db",
   "metadata": {},
   "outputs": [
    {
     "data": {
      "text/plain": [
       "TfidfVectorizer(max_features=5000, ngram_range=(1, 3))"
      ]
     },
     "execution_count": 306,
     "metadata": {},
     "output_type": "execute_result"
    }
   ],
   "source": [
    "tfidf.fit(train['clean tweet'])"
   ]
  },
  {
   "cell_type": "code",
   "execution_count": 307,
   "id": "cf7cc1bb-6271-4239-ad0b-2fc2fb03b129",
   "metadata": {},
   "outputs": [],
   "source": [
    "tfidf_vectors = tfidf.transform(train['clean tweet'])"
   ]
  },
  {
   "cell_type": "code",
   "execution_count": 308,
   "id": "d76cfe18-d94e-4a4f-a834-cc0bcfb71779",
   "metadata": {},
   "outputs": [
    {
     "data": {
      "text/plain": [
       "<31962x5000 sparse matrix of type '<class 'numpy.float64'>'\n",
       "\twith 410134 stored elements in Compressed Sparse Row format>"
      ]
     },
     "execution_count": 308,
     "metadata": {},
     "output_type": "execute_result"
    }
   ],
   "source": [
    "tfidf_vectors"
   ]
  },
  {
   "cell_type": "code",
   "execution_count": 309,
   "id": "6c73c022-84a9-4b0f-a291-4ca3a8ddb79a",
   "metadata": {},
   "outputs": [
    {
     "data": {
      "text/plain": [
       "Index(['id', 'label', 'tweet', 'clean tweet', 'wordcount', 'charcount',\n",
       "       'mentions', 'hashtags', 'lemmas', 'nouncount', 'verbcount', 'adjcount'],\n",
       "      dtype='object')"
      ]
     },
     "execution_count": 309,
     "metadata": {},
     "output_type": "execute_result"
    }
   ],
   "source": [
    "train.columns"
   ]
  },
  {
   "cell_type": "code",
   "execution_count": 310,
   "id": "a00844d2-24eb-4050-93d0-5114390e024f",
   "metadata": {},
   "outputs": [],
   "source": [
    "features = ['wordcount', 'charcount', 'mentions', 'hashtags', 'verbcount', 'nouncount', 'adjcount']"
   ]
  },
  {
   "cell_type": "code",
   "execution_count": 311,
   "id": "30568d99-9754-4073-b64a-a8b3425b3690",
   "metadata": {},
   "outputs": [],
   "source": [
    "X = hstack([tfidf_vectors, csr_matrix(train[features])])"
   ]
  },
  {
   "cell_type": "code",
   "execution_count": 282,
   "id": "8de7c0b8-3583-4e67-9a45-f5f0fb47202b",
   "metadata": {},
   "outputs": [],
   "source": [
    "X = hstack([count_vectors, csr_matrix(train[features])])"
   ]
  },
  {
   "cell_type": "code",
   "execution_count": 312,
   "id": "91767074-2adc-4e14-a94b-1d899d5060d1",
   "metadata": {},
   "outputs": [],
   "source": [
    "target = train['label']"
   ]
  },
  {
   "cell_type": "code",
   "execution_count": null,
   "id": "164a51f9-478b-48a0-9897-ee3fd1e884c7",
   "metadata": {},
   "outputs": [],
   "source": []
  },
  {
   "cell_type": "code",
   "execution_count": 313,
   "id": "64fc67ad-a22d-488f-89a0-447567f87733",
   "metadata": {
    "colab": {},
    "colab_type": "code",
    "executionInfo": {
     "elapsed": 1846,
     "status": "ok",
     "timestamp": 1598870758012,
     "user": {
      "displayName": "Faizan Shaikh",
      "photoUrl": "",
      "userId": "11428351120800485612"
     },
     "user_tz": -330
    },
    "id": "xrjhgosACJqg"
   },
   "outputs": [],
   "source": [
    "x_train, x_test, y_train, y_test = train_test_split(X, target, random_state=20, stratify=target)"
   ]
  },
  {
   "cell_type": "code",
   "execution_count": 314,
   "id": "c7423e17-676e-410b-86c5-01b5fc4ef719",
   "metadata": {},
   "outputs": [],
   "source": [
    "model = LogisticRegression(max_iter=2000)"
   ]
  },
  {
   "cell_type": "code",
   "execution_count": 179,
   "id": "70fda7d5-5b6f-4e97-bd1f-4d85301b0aea",
   "metadata": {},
   "outputs": [],
   "source": [
    "model = GradientBoostingClassifier(n_estimators=500, learning_rate=0.5)"
   ]
  },
  {
   "cell_type": "code",
   "execution_count": 315,
   "id": "8a9e8986-b93d-497f-b4b4-f0e9f9497cbb",
   "metadata": {},
   "outputs": [
    {
     "data": {
      "text/plain": [
       "LogisticRegression(max_iter=2000)"
      ]
     },
     "execution_count": 315,
     "metadata": {},
     "output_type": "execute_result"
    }
   ],
   "source": [
    "model.fit(x_train, y_train)"
   ]
  },
  {
   "cell_type": "code",
   "execution_count": 316,
   "id": "83312973-6754-4765-8475-520dc6e406c4",
   "metadata": {},
   "outputs": [
    {
     "data": {
      "text/plain": [
       "array([0.42333786, 0.41331484, 0.37215909])"
      ]
     },
     "execution_count": 316,
     "metadata": {},
     "output_type": "execute_result"
    }
   ],
   "source": [
    "cross_val_score(model, x_train, y_train, scoring='f1', cv=3)"
   ]
  },
  {
   "cell_type": "code",
   "execution_count": 317,
   "id": "168152da-7150-424e-9f77-8cb9be1f9205",
   "metadata": {},
   "outputs": [
    {
     "data": {
      "text/plain": [
       "0.5222984562607205"
      ]
     },
     "execution_count": 317,
     "metadata": {},
     "output_type": "execute_result"
    }
   ],
   "source": [
    "f1_score(y_train, model.predict(x_train))"
   ]
  },
  {
   "cell_type": "code",
   "execution_count": 318,
   "id": "10167105-958b-42f4-b0ae-c9d4651cfb4e",
   "metadata": {},
   "outputs": [],
   "source": [
    "pred = model.predict(x_test)"
   ]
  },
  {
   "cell_type": "code",
   "execution_count": 319,
   "id": "4c8794fc-c5a4-456e-9ef0-40be7cfcd5fb",
   "metadata": {},
   "outputs": [
    {
     "data": {
      "text/plain": [
       "0.4688741721854304"
      ]
     },
     "execution_count": 319,
     "metadata": {},
     "output_type": "execute_result"
    }
   ],
   "source": [
    "f1_score(y_test, pred)"
   ]
  },
  {
   "cell_type": "code",
   "execution_count": 291,
   "id": "de78260d-32c9-4006-9ce1-d121ac0b75c3",
   "metadata": {},
   "outputs": [
    {
     "name": "stdout",
     "output_type": "stream",
     "text": [
      "              precision    recall  f1-score   support\n",
      "\n",
      "           0       0.96      1.00      0.98      7430\n",
      "           1       0.89      0.49      0.64       561\n",
      "\n",
      "    accuracy                           0.96      7991\n",
      "   macro avg       0.93      0.74      0.81      7991\n",
      "weighted avg       0.96      0.96      0.95      7991\n",
      "\n"
     ]
    }
   ],
   "source": [
    "print(classification_report(y_test, pred))"
   ]
  },
  {
   "cell_type": "code",
   "execution_count": 292,
   "id": "22069270-7b3b-4e71-af1f-caebfa55a99b",
   "metadata": {},
   "outputs": [],
   "source": [
    "pred_prob = model.predict_proba(x_test)"
   ]
  },
  {
   "cell_type": "code",
   "execution_count": 293,
   "id": "71f23c50-14fb-479f-b27c-4e09651312c2",
   "metadata": {},
   "outputs": [],
   "source": [
    "pred_m = (model.predict_proba(x_test) >= .5).astype(int)"
   ]
  },
  {
   "cell_type": "code",
   "execution_count": 294,
   "id": "e0148e01-191a-4f96-b229-be8cca3f3107",
   "metadata": {},
   "outputs": [],
   "source": [
    "pred = pred_m[:, 1]"
   ]
  },
  {
   "cell_type": "code",
   "execution_count": 295,
   "id": "7e1130c4-b54c-4b36-8185-a5007e85bbbe",
   "metadata": {},
   "outputs": [
    {
     "data": {
      "text/plain": [
       "0.6353211009174312"
      ]
     },
     "execution_count": 295,
     "metadata": {},
     "output_type": "execute_result"
    }
   ],
   "source": [
    "f1_score(y_test, pred)"
   ]
  },
  {
   "cell_type": "code",
   "execution_count": 296,
   "id": "7d62d140-b1af-4e47-b5a4-55b6fe82fc3b",
   "metadata": {},
   "outputs": [
    {
     "data": {
      "text/plain": [
       "<sklearn.metrics._plot.confusion_matrix.ConfusionMatrixDisplay at 0x24977c1de80>"
      ]
     },
     "execution_count": 296,
     "metadata": {},
     "output_type": "execute_result"
    },
    {
     "data": {
      "image/png": "[encoded data removed]",
      "text/plain": [
       "<Figure size 432x288 with 2 Axes>"
      ]
     },
     "metadata": {
      "needs_background": "light"
     },
     "output_type": "display_data"
    }
   ],
   "source": [
    "ConfusionMatrixDisplay.from_predictions(y_test, pred)"
   ]
  },
  {
   "cell_type": "code",
   "execution_count": 75,
   "id": "025b5c8e-34cd-4aa6-b520-17518e740726",
   "metadata": {},
   "outputs": [
    {
     "data": {
      "text/plain": [
       "<sklearn.metrics._plot.roc_curve.RocCurveDisplay at 0x24975892550>"
      ]
     },
     "execution_count": 75,
     "metadata": {},
     "output_type": "execute_result"
    },
    {
     "data": {
      "image/png": "[encoded data removed]",
      "text/plain": [
       "<Figure size 432x288 with 1 Axes>"
      ]
     },
     "metadata": {
      "needs_background": "light"
     },
     "output_type": "display_data"
    }
   ],
   "source": [
    "RocCurveDisplay.from_predictions(y_test, pred)"
   ]
  },
  {
   "cell_type": "code",
   "execution_count": 76,
   "id": "440bf2a9-818f-43ba-88b3-abfd471701c0",
   "metadata": {},
   "outputs": [
    {
     "data": {
      "text/plain": [
       "<sklearn.metrics._plot.det_curve.DetCurveDisplay at 0x249778ff160>"
      ]
     },
     "execution_count": 76,
     "metadata": {},
     "output_type": "execute_result"
    },
    {
     "data": {
      "image/png": "[encoded data removed]",
      "text/plain": [
       "<Figure size 432x288 with 1 Axes>"
      ]
     },
     "metadata": {
      "needs_background": "light"
     },
     "output_type": "display_data"
    }
   ],
   "source": [
    "DetCurveDisplay.from_predictions(y_test.values, pred_prob[:, 1], name='model')"
   ]
  },
  {
   "cell_type": "code",
   "execution_count": 77,
   "id": "aab244eb-7999-4e65-b1c3-36123cca0946",
   "metadata": {},
   "outputs": [
    {
     "data": {
      "text/plain": [
       "<matplotlib.legend.Legend at 0x249779361c0>"
      ]
     },
     "execution_count": 77,
     "metadata": {},
     "output_type": "execute_result"
    },
    {
     "data": {
      "image/png": "[encoded data removed]",
      "text/plain": [
       "<Figure size 1440x360 with 3 Axes>"
      ]
     },
     "metadata": {
      "needs_background": "light"
     },
     "output_type": "display_data"
    }
   ],
   "source": [
    "fig, (ax1, ax2) = plt.subplots(1, 2, figsize=(20,5), gridspec_kw={'width_ratios': [1, 2]})\n",
    "sns.heatmap(pred_prob[np.argsort(pred_prob[:, 0])], ax=ax1)\n",
    "ax2.plot(pred_prob[np.argsort(pred_prob[:, 0])])\n",
    "ax2.set_xlabel('id')\n",
    "ax2.set_ylabel('probability')\n",
    "ax2.legend(['0', '1'])"
   ]
  },
  {
   "cell_type": "markdown",
   "id": "961fac21-7cb9-4a0b-bc49-54d49e5f2534",
   "metadata": {},
   "source": [
    "# test set"
   ]
  },
  {
   "cell_type": "code",
   "execution_count": 78,
   "id": "ba666c14-7d63-483d-8e5e-51b6a02e2134",
   "metadata": {},
   "outputs": [],
   "source": [
    "test = pd.read_csv('test.csv')"
   ]
  },
  {
   "cell_type": "code",
   "execution_count": 79,
   "id": "84339bba-d7ab-4ca8-a652-efa2893a57a7",
   "metadata": {},
   "outputs": [
    {
     "data": {
      "text/html": [
       "<div>\n",
       "<style scoped>\n",
       "    .dataframe tbody tr th:only-of-type {\n",
       "        vertical-align: middle;\n",
       "    }\n",
       "\n",
       "    .dataframe tbody tr th {\n",
       "        vertical-align: top;\n",
       "    }\n",
       "\n",
       "    .dataframe thead th {\n",
       "        text-align: right;\n",
       "    }\n",
       "</style>\n",
       "<table border=\"1\" class=\"dataframe\">\n",
       "  <thead>\n",
       "    <tr style=\"text-align: right;\">\n",
       "      <th></th>\n",
       "      <th>id</th>\n",
       "      <th>tweet</th>\n",
       "    </tr>\n",
       "  </thead>\n",
       "  <tbody>\n",
       "    <tr>\n",
       "      <th>0</th>\n",
       "      <td>31963</td>\n",
       "      <td>#studiolife #aislife #requires #passion #dedication #willpower   to find #newmaterialsâ¦</td>\n",
       "    </tr>\n",
       "    <tr>\n",
       "      <th>1</th>\n",
       "      <td>31964</td>\n",
       "      <td>@user #white #supremacists want everyone to see the new â  #birdsâ #movie â and hereâs why</td>\n",
       "    </tr>\n",
       "    <tr>\n",
       "      <th>2</th>\n",
       "      <td>31965</td>\n",
       "      <td>safe ways to heal your #acne!!    #altwaystoheal #healthy   #healing!!</td>\n",
       "    </tr>\n",
       "    <tr>\n",
       "      <th>3</th>\n",
       "      <td>31966</td>\n",
       "      <td>is the hp and the cursed child book up for reservations already? if yes, where? if no, when? ððð   #harrypotter #pottermore #favorite</td>\n",
       "    </tr>\n",
       "    <tr>\n",
       "      <th>4</th>\n",
       "      <td>31967</td>\n",
       "      <td>3rd #bihday to my amazing, hilarious #nephew eli ahmir! uncle dave loves you and missesâ¦</td>\n",
       "    </tr>\n",
       "    <tr>\n",
       "      <th>...</th>\n",
       "      <td>...</td>\n",
       "      <td>...</td>\n",
       "    </tr>\n",
       "    <tr>\n",
       "      <th>17192</th>\n",
       "      <td>49155</td>\n",
       "      <td>thought factory: left-right polarisation! #trump #uselections2016 #leadership #politics  #brexit #blm &amp;gt;3</td>\n",
       "    </tr>\n",
       "    <tr>\n",
       "      <th>17193</th>\n",
       "      <td>49156</td>\n",
       "      <td>feeling like a mermaid ð #hairflip #neverready #formal #wedding #gown #dresses #mermaid  â¦</td>\n",
       "    </tr>\n",
       "    <tr>\n",
       "      <th>17194</th>\n",
       "      <td>49157</td>\n",
       "      <td>#hillary #campaigned today in #ohio((omg)) &amp;amp; used words like \"assets&amp;amp;liability\" never once did #clinton say thee(word) #radicalization</td>\n",
       "    </tr>\n",
       "    <tr>\n",
       "      <th>17195</th>\n",
       "      <td>49158</td>\n",
       "      <td>happy, at work conference: right mindset leads to culture-of-development organizations    #work #mindset</td>\n",
       "    </tr>\n",
       "    <tr>\n",
       "      <th>17196</th>\n",
       "      <td>49159</td>\n",
       "      <td>my   song \"so glad\" free download!  #shoegaze #newmusic #newsong</td>\n",
       "    </tr>\n",
       "  </tbody>\n",
       "</table>\n",
       "<p>17197 rows × 2 columns</p>\n",
       "</div>"
      ],
      "text/plain": [
       "          id  \\\n",
       "0      31963   \n",
       "1      31964   \n",
       "2      31965   \n",
       "3      31966   \n",
       "4      31967   \n",
       "...      ...   \n",
       "17192  49155   \n",
       "17193  49156   \n",
       "17194  49157   \n",
       "17195  49158   \n",
       "17196  49159   \n",
       "\n",
       "                                                                                                                                                   tweet  \n",
       "0                                                             #studiolife #aislife #requires #passion #dedication #willpower   to find #newmaterialsâ¦   \n",
       "1                                                   @user #white #supremacists want everyone to see the new â  #birdsâ #movie â and hereâs why    \n",
       "2                                                                                safe ways to heal your #acne!!    #altwaystoheal #healthy   #healing!!   \n",
       "3         is the hp and the cursed child book up for reservations already? if yes, where? if no, when? ððð   #harrypotter #pottermore #favorite  \n",
       "4                                                            3rd #bihday to my amazing, hilarious #nephew eli ahmir! uncle dave loves you and missesâ¦   \n",
       "...                                                                                                                                                  ...  \n",
       "17192                                       thought factory: left-right polarisation! #trump #uselections2016 #leadership #politics  #brexit #blm &gt;3   \n",
       "17193                                                   feeling like a mermaid ð #hairflip #neverready #formal #wedding #gown #dresses #mermaid  â¦   \n",
       "17194  #hillary #campaigned today in #ohio((omg)) &amp; used words like \"assets&amp;liability\" never once did #clinton say thee(word) #radicalization     \n",
       "17195                                           happy, at work conference: right mindset leads to culture-of-development organizations    #work #mindset  \n",
       "17196                                                                                   my   song \"so glad\" free download!  #shoegaze #newmusic #newsong  \n",
       "\n",
       "[17197 rows x 2 columns]"
      ]
     },
     "execution_count": 79,
     "metadata": {},
     "output_type": "execute_result"
    }
   ],
   "source": [
    "test"
   ]
  },
  {
   "cell_type": "code",
   "execution_count": 80,
   "id": "2fe0f279-6091-432c-aaa7-4b90fc41eaa3",
   "metadata": {},
   "outputs": [],
   "source": [
    "test['clean tweet'] = test['tweet'].apply(lambda x: clean_text(x))"
   ]
  },
  {
   "cell_type": "code",
   "execution_count": 81,
   "id": "ca1c7bdb-9ef2-4720-92d8-e3463cdd5ef0",
   "metadata": {},
   "outputs": [
    {
     "data": {
      "text/html": [
       "<div>\n",
       "<style scoped>\n",
       "    .dataframe tbody tr th:only-of-type {\n",
       "        vertical-align: middle;\n",
       "    }\n",
       "\n",
       "    .dataframe tbody tr th {\n",
       "        vertical-align: top;\n",
       "    }\n",
       "\n",
       "    .dataframe thead th {\n",
       "        text-align: right;\n",
       "    }\n",
       "</style>\n",
       "<table border=\"1\" class=\"dataframe\">\n",
       "  <thead>\n",
       "    <tr style=\"text-align: right;\">\n",
       "      <th></th>\n",
       "      <th>id</th>\n",
       "      <th>tweet</th>\n",
       "      <th>clean tweet</th>\n",
       "    </tr>\n",
       "  </thead>\n",
       "  <tbody>\n",
       "    <tr>\n",
       "      <th>0</th>\n",
       "      <td>31963</td>\n",
       "      <td>#studiolife #aislife #requires #passion #dedication #willpower   to find #newmaterialsâ¦</td>\n",
       "      <td>studiolife aislife requires passion dedication willpower to find newmaterials</td>\n",
       "    </tr>\n",
       "    <tr>\n",
       "      <th>1</th>\n",
       "      <td>31964</td>\n",
       "      <td>@user #white #supremacists want everyone to see the new â  #birdsâ #movie â and hereâs why</td>\n",
       "      <td>user white supremacists want everyone to see the new birds movie and here s why</td>\n",
       "    </tr>\n",
       "    <tr>\n",
       "      <th>2</th>\n",
       "      <td>31965</td>\n",
       "      <td>safe ways to heal your #acne!!    #altwaystoheal #healthy   #healing!!</td>\n",
       "      <td>safe ways to heal your acne altwaystoheal healthy healing</td>\n",
       "    </tr>\n",
       "    <tr>\n",
       "      <th>3</th>\n",
       "      <td>31966</td>\n",
       "      <td>is the hp and the cursed child book up for reservations already? if yes, where? if no, when? ððð   #harrypotter #pottermore #favorite</td>\n",
       "      <td>is the hp and the cursed child book up for reservations already if yes where if no when harrypotter pottermore favorite</td>\n",
       "    </tr>\n",
       "    <tr>\n",
       "      <th>4</th>\n",
       "      <td>31967</td>\n",
       "      <td>3rd #bihday to my amazing, hilarious #nephew eli ahmir! uncle dave loves you and missesâ¦</td>\n",
       "      <td>3rd bihday to my amazing hilarious nephew eli ahmir uncle dave loves you and misses</td>\n",
       "    </tr>\n",
       "    <tr>\n",
       "      <th>...</th>\n",
       "      <td>...</td>\n",
       "      <td>...</td>\n",
       "      <td>...</td>\n",
       "    </tr>\n",
       "    <tr>\n",
       "      <th>17192</th>\n",
       "      <td>49155</td>\n",
       "      <td>thought factory: left-right polarisation! #trump #uselections2016 #leadership #politics  #brexit #blm &amp;gt;3</td>\n",
       "      <td>thought factory left right polarisation trump uselections2016 leadership politics brexit blm gt 3</td>\n",
       "    </tr>\n",
       "    <tr>\n",
       "      <th>17193</th>\n",
       "      <td>49156</td>\n",
       "      <td>feeling like a mermaid ð #hairflip #neverready #formal #wedding #gown #dresses #mermaid  â¦</td>\n",
       "      <td>feeling like a mermaid hairflip neverready formal wedding gown dresses mermaid</td>\n",
       "    </tr>\n",
       "    <tr>\n",
       "      <th>17194</th>\n",
       "      <td>49157</td>\n",
       "      <td>#hillary #campaigned today in #ohio((omg)) &amp;amp; used words like \"assets&amp;amp;liability\" never once did #clinton say thee(word) #radicalization</td>\n",
       "      <td>hillary campaigned today in ohio omg amp used words like assets amp liability never once did clinton say thee word radicalization</td>\n",
       "    </tr>\n",
       "    <tr>\n",
       "      <th>17195</th>\n",
       "      <td>49158</td>\n",
       "      <td>happy, at work conference: right mindset leads to culture-of-development organizations    #work #mindset</td>\n",
       "      <td>happy at work conference right mindset leads to culture of development organizations work mindset</td>\n",
       "    </tr>\n",
       "    <tr>\n",
       "      <th>17196</th>\n",
       "      <td>49159</td>\n",
       "      <td>my   song \"so glad\" free download!  #shoegaze #newmusic #newsong</td>\n",
       "      <td>my song so glad free download shoegaze newmusic newsong</td>\n",
       "    </tr>\n",
       "  </tbody>\n",
       "</table>\n",
       "<p>17197 rows × 3 columns</p>\n",
       "</div>"
      ],
      "text/plain": [
       "          id  \\\n",
       "0      31963   \n",
       "1      31964   \n",
       "2      31965   \n",
       "3      31966   \n",
       "4      31967   \n",
       "...      ...   \n",
       "17192  49155   \n",
       "17193  49156   \n",
       "17194  49157   \n",
       "17195  49158   \n",
       "17196  49159   \n",
       "\n",
       "                                                                                                                                                   tweet  \\\n",
       "0                                                             #studiolife #aislife #requires #passion #dedication #willpower   to find #newmaterialsâ¦    \n",
       "1                                                   @user #white #supremacists want everyone to see the new â  #birdsâ #movie â and hereâs why     \n",
       "2                                                                                safe ways to heal your #acne!!    #altwaystoheal #healthy   #healing!!    \n",
       "3         is the hp and the cursed child book up for reservations already? if yes, where? if no, when? ððð   #harrypotter #pottermore #favorite   \n",
       "4                                                            3rd #bihday to my amazing, hilarious #nephew eli ahmir! uncle dave loves you and missesâ¦    \n",
       "...                                                                                                                                                  ...   \n",
       "17192                                       thought factory: left-right polarisation! #trump #uselections2016 #leadership #politics  #brexit #blm &gt;3    \n",
       "17193                                                   feeling like a mermaid ð #hairflip #neverready #formal #wedding #gown #dresses #mermaid  â¦    \n",
       "17194  #hillary #campaigned today in #ohio((omg)) &amp; used words like \"assets&amp;liability\" never once did #clinton say thee(word) #radicalization      \n",
       "17195                                           happy, at work conference: right mindset leads to culture-of-development organizations    #work #mindset   \n",
       "17196                                                                                   my   song \"so glad\" free download!  #shoegaze #newmusic #newsong   \n",
       "\n",
       "                                                                                                                             clean tweet  \n",
       "0                                                          studiolife aislife requires passion dedication willpower to find newmaterials  \n",
       "1                                                        user white supremacists want everyone to see the new birds movie and here s why  \n",
       "2                                                                              safe ways to heal your acne altwaystoheal healthy healing  \n",
       "3                is the hp and the cursed child book up for reservations already if yes where if no when harrypotter pottermore favorite  \n",
       "4                                                    3rd bihday to my amazing hilarious nephew eli ahmir uncle dave loves you and misses  \n",
       "...                                                                                                                                  ...  \n",
       "17192                                  thought factory left right polarisation trump uselections2016 leadership politics brexit blm gt 3  \n",
       "17193                                                     feeling like a mermaid hairflip neverready formal wedding gown dresses mermaid  \n",
       "17194  hillary campaigned today in ohio omg amp used words like assets amp liability never once did clinton say thee word radicalization  \n",
       "17195                                  happy at work conference right mindset leads to culture of development organizations work mindset  \n",
       "17196                                                                            my song so glad free download shoegaze newmusic newsong  \n",
       "\n",
       "[17197 rows x 3 columns]"
      ]
     },
     "execution_count": 81,
     "metadata": {},
     "output_type": "execute_result"
    }
   ],
   "source": [
    "test"
   ]
  },
  {
   "cell_type": "code",
   "execution_count": 82,
   "id": "ce31a79f-4479-4a2a-bddd-98c6a2f53e86",
   "metadata": {},
   "outputs": [],
   "source": [
    "test['wordcount'] = test['clean tweet'].apply(lambda x: len(x.split()))"
   ]
  },
  {
   "cell_type": "code",
   "execution_count": 83,
   "id": "1d91f4d6-c1f1-4e73-b11c-68871d3d6699",
   "metadata": {},
   "outputs": [],
   "source": [
    "test['charcount'] = test['clean tweet'].apply(lambda x: len(x))"
   ]
  },
  {
   "cell_type": "code",
   "execution_count": 84,
   "id": "5569fbcf-d554-4c8b-b985-e862898e9911",
   "metadata": {},
   "outputs": [],
   "source": [
    "test['mentions'] = test['tweet'].apply(lambda x: x.count('@'))"
   ]
  },
  {
   "cell_type": "code",
   "execution_count": 85,
   "id": "67abfae9-037e-4332-989b-a324babb82eb",
   "metadata": {},
   "outputs": [],
   "source": [
    "test['hashtags'] = test['tweet'].apply(lambda x: x.count('#'))"
   ]
  },
  {
   "cell_type": "code",
   "execution_count": 86,
   "id": "499cf02b-f5f9-4e5f-8e62-3b9dd04ac8f0",
   "metadata": {},
   "outputs": [],
   "source": [
    "test['lemmas'] = lemma(test['clean tweet'].values)"
   ]
  },
  {
   "cell_type": "code",
   "execution_count": 87,
   "id": "9c5b82a4-0f13-49c2-abd8-ec72cc22be63",
   "metadata": {},
   "outputs": [],
   "source": [
    "test['nouncount'] = noun_count(test['clean tweet'].values)"
   ]
  },
  {
   "cell_type": "code",
   "execution_count": 88,
   "id": "9ea9926b-ba5f-42f3-a562-63f3436f2ad3",
   "metadata": {},
   "outputs": [],
   "source": [
    "test['verbcount'] = verb_count(test['clean tweet'].values)"
   ]
  },
  {
   "cell_type": "code",
   "execution_count": 89,
   "id": "60d98467-53f2-4755-8f43-c7ed48cddd39",
   "metadata": {},
   "outputs": [],
   "source": [
    "test['adjcount'] = adjective_count(test['clean tweet'].values)"
   ]
  },
  {
   "cell_type": "code",
   "execution_count": 90,
   "id": "5a727fb8-96a0-420e-a1e3-b20defae46e9",
   "metadata": {},
   "outputs": [
    {
     "data": {
      "text/html": [
       "<div>\n",
       "<style scoped>\n",
       "    .dataframe tbody tr th:only-of-type {\n",
       "        vertical-align: middle;\n",
       "    }\n",
       "\n",
       "    .dataframe tbody tr th {\n",
       "        vertical-align: top;\n",
       "    }\n",
       "\n",
       "    .dataframe thead th {\n",
       "        text-align: right;\n",
       "    }\n",
       "</style>\n",
       "<table border=\"1\" class=\"dataframe\">\n",
       "  <thead>\n",
       "    <tr style=\"text-align: right;\">\n",
       "      <th></th>\n",
       "      <th>id</th>\n",
       "      <th>tweet</th>\n",
       "      <th>clean tweet</th>\n",
       "      <th>wordcount</th>\n",
       "      <th>charcount</th>\n",
       "      <th>mentions</th>\n",
       "      <th>hashtags</th>\n",
       "      <th>lemmas</th>\n",
       "      <th>nouncount</th>\n",
       "      <th>verbcount</th>\n",
       "      <th>adjcount</th>\n",
       "    </tr>\n",
       "  </thead>\n",
       "  <tbody>\n",
       "    <tr>\n",
       "      <th>0</th>\n",
       "      <td>31963</td>\n",
       "      <td>#studiolife #aislife #requires #passion #dedication #willpower   to find #newmaterialsâ¦</td>\n",
       "      <td>studiolife aislife requires passion dedication willpower to find newmaterials</td>\n",
       "      <td>9</td>\n",
       "      <td>77</td>\n",
       "      <td>0</td>\n",
       "      <td>7</td>\n",
       "      <td>studiolife aislife requires passion dedication willpower find newmaterials</td>\n",
       "      <td>6</td>\n",
       "      <td>2</td>\n",
       "      <td>0</td>\n",
       "    </tr>\n",
       "    <tr>\n",
       "      <th>1</th>\n",
       "      <td>31964</td>\n",
       "      <td>@user #white #supremacists want everyone to see the new â  #birdsâ #movie â and hereâs why</td>\n",
       "      <td>user white supremacists want everyone to see the new birds movie and here s why</td>\n",
       "      <td>15</td>\n",
       "      <td>79</td>\n",
       "      <td>1</td>\n",
       "      <td>4</td>\n",
       "      <td>user white supremacists want new birds movie s</td>\n",
       "      <td>4</td>\n",
       "      <td>3</td>\n",
       "      <td>2</td>\n",
       "    </tr>\n",
       "    <tr>\n",
       "      <th>2</th>\n",
       "      <td>31965</td>\n",
       "      <td>safe ways to heal your #acne!!    #altwaystoheal #healthy   #healing!!</td>\n",
       "      <td>safe ways to heal your acne altwaystoheal healthy healing</td>\n",
       "      <td>9</td>\n",
       "      <td>57</td>\n",
       "      <td>0</td>\n",
       "      <td>4</td>\n",
       "      <td>safe ways heal acne altwaystoheal healthy healing</td>\n",
       "      <td>3</td>\n",
       "      <td>1</td>\n",
       "      <td>3</td>\n",
       "    </tr>\n",
       "    <tr>\n",
       "      <th>3</th>\n",
       "      <td>31966</td>\n",
       "      <td>is the hp and the cursed child book up for reservations already? if yes, where? if no, when? ððð   #harrypotter #pottermore #favorite</td>\n",
       "      <td>is the hp and the cursed child book up for reservations already if yes where if no when harrypotter pottermore favorite</td>\n",
       "      <td>21</td>\n",
       "      <td>119</td>\n",
       "      <td>0</td>\n",
       "      <td>3</td>\n",
       "      <td>hp cursed child book reservations yes harrypotter pottermore favorite</td>\n",
       "      <td>5</td>\n",
       "      <td>0</td>\n",
       "      <td>3</td>\n",
       "    </tr>\n",
       "    <tr>\n",
       "      <th>4</th>\n",
       "      <td>31967</td>\n",
       "      <td>3rd #bihday to my amazing, hilarious #nephew eli ahmir! uncle dave loves you and missesâ¦</td>\n",
       "      <td>3rd bihday to my amazing hilarious nephew eli ahmir uncle dave loves you and misses</td>\n",
       "      <td>15</td>\n",
       "      <td>83</td>\n",
       "      <td>0</td>\n",
       "      <td>2</td>\n",
       "      <td>3rd bihday amazing hilarious nephew eli ahmir uncle dave loves misses</td>\n",
       "      <td>7</td>\n",
       "      <td>1</td>\n",
       "      <td>3</td>\n",
       "    </tr>\n",
       "    <tr>\n",
       "      <th>...</th>\n",
       "      <td>...</td>\n",
       "      <td>...</td>\n",
       "      <td>...</td>\n",
       "      <td>...</td>\n",
       "      <td>...</td>\n",
       "      <td>...</td>\n",
       "      <td>...</td>\n",
       "      <td>...</td>\n",
       "      <td>...</td>\n",
       "      <td>...</td>\n",
       "      <td>...</td>\n",
       "    </tr>\n",
       "    <tr>\n",
       "      <th>17192</th>\n",
       "      <td>49155</td>\n",
       "      <td>thought factory: left-right polarisation! #trump #uselections2016 #leadership #politics  #brexit #blm &amp;gt;3</td>\n",
       "      <td>thought factory left right polarisation trump uselections2016 leadership politics brexit blm gt 3</td>\n",
       "      <td>13</td>\n",
       "      <td>97</td>\n",
       "      <td>0</td>\n",
       "      <td>6</td>\n",
       "      <td>thought factory left right polarisation trump uselections2016 leadership politics brexit blm gt 3</td>\n",
       "      <td>8</td>\n",
       "      <td>3</td>\n",
       "      <td>1</td>\n",
       "    </tr>\n",
       "    <tr>\n",
       "      <th>17193</th>\n",
       "      <td>49156</td>\n",
       "      <td>feeling like a mermaid ð #hairflip #neverready #formal #wedding #gown #dresses #mermaid  â¦</td>\n",
       "      <td>feeling like a mermaid hairflip neverready formal wedding gown dresses mermaid</td>\n",
       "      <td>11</td>\n",
       "      <td>78</td>\n",
       "      <td>0</td>\n",
       "      <td>7</td>\n",
       "      <td>feeling like mermaid hairflip neverready formal wedding gown dresses mermaid</td>\n",
       "      <td>3</td>\n",
       "      <td>2</td>\n",
       "      <td>3</td>\n",
       "    </tr>\n",
       "    <tr>\n",
       "      <th>17194</th>\n",
       "      <td>49157</td>\n",
       "      <td>#hillary #campaigned today in #ohio((omg)) &amp;amp; used words like \"assets&amp;amp;liability\" never once did #clinton say thee(word) #radicalization</td>\n",
       "      <td>hillary campaigned today in ohio omg amp used words like assets amp liability never once did clinton say thee word radicalization</td>\n",
       "      <td>21</td>\n",
       "      <td>129</td>\n",
       "      <td>0</td>\n",
       "      <td>5</td>\n",
       "      <td>hillary campaigned today ohio omg amp words like assets amp liability clinton thee word radicalization</td>\n",
       "      <td>12</td>\n",
       "      <td>3</td>\n",
       "      <td>1</td>\n",
       "    </tr>\n",
       "    <tr>\n",
       "      <th>17195</th>\n",
       "      <td>49158</td>\n",
       "      <td>happy, at work conference: right mindset leads to culture-of-development organizations    #work #mindset</td>\n",
       "      <td>happy at work conference right mindset leads to culture of development organizations work mindset</td>\n",
       "      <td>14</td>\n",
       "      <td>97</td>\n",
       "      <td>0</td>\n",
       "      <td>2</td>\n",
       "      <td>happy work conference right mindset leads culture development organizations work mindset</td>\n",
       "      <td>7</td>\n",
       "      <td>2</td>\n",
       "      <td>2</td>\n",
       "    </tr>\n",
       "    <tr>\n",
       "      <th>17196</th>\n",
       "      <td>49159</td>\n",
       "      <td>my   song \"so glad\" free download!  #shoegaze #newmusic #newsong</td>\n",
       "      <td>my song so glad free download shoegaze newmusic newsong</td>\n",
       "      <td>9</td>\n",
       "      <td>55</td>\n",
       "      <td>0</td>\n",
       "      <td>3</td>\n",
       "      <td>song glad free download shoegaze newmusic newsong</td>\n",
       "      <td>3</td>\n",
       "      <td>1</td>\n",
       "      <td>2</td>\n",
       "    </tr>\n",
       "  </tbody>\n",
       "</table>\n",
       "<p>17197 rows × 11 columns</p>\n",
       "</div>"
      ],
      "text/plain": [
       "          id  \\\n",
       "0      31963   \n",
       "1      31964   \n",
       "2      31965   \n",
       "3      31966   \n",
       "4      31967   \n",
       "...      ...   \n",
       "17192  49155   \n",
       "17193  49156   \n",
       "17194  49157   \n",
       "17195  49158   \n",
       "17196  49159   \n",
       "\n",
       "                                                                                                                                                   tweet  \\\n",
       "0                                                             #studiolife #aislife #requires #passion #dedication #willpower   to find #newmaterialsâ¦    \n",
       "1                                                   @user #white #supremacists want everyone to see the new â  #birdsâ #movie â and hereâs why     \n",
       "2                                                                                safe ways to heal your #acne!!    #altwaystoheal #healthy   #healing!!    \n",
       "3         is the hp and the cursed child book up for reservations already? if yes, where? if no, when? ððð   #harrypotter #pottermore #favorite   \n",
       "4                                                            3rd #bihday to my amazing, hilarious #nephew eli ahmir! uncle dave loves you and missesâ¦    \n",
       "...                                                                                                                                                  ...   \n",
       "17192                                       thought factory: left-right polarisation! #trump #uselections2016 #leadership #politics  #brexit #blm &gt;3    \n",
       "17193                                                   feeling like a mermaid ð #hairflip #neverready #formal #wedding #gown #dresses #mermaid  â¦    \n",
       "17194  #hillary #campaigned today in #ohio((omg)) &amp; used words like \"assets&amp;liability\" never once did #clinton say thee(word) #radicalization      \n",
       "17195                                           happy, at work conference: right mindset leads to culture-of-development organizations    #work #mindset   \n",
       "17196                                                                                   my   song \"so glad\" free download!  #shoegaze #newmusic #newsong   \n",
       "\n",
       "                                                                                                                             clean tweet  \\\n",
       "0                                                          studiolife aislife requires passion dedication willpower to find newmaterials   \n",
       "1                                                        user white supremacists want everyone to see the new birds movie and here s why   \n",
       "2                                                                              safe ways to heal your acne altwaystoheal healthy healing   \n",
       "3                is the hp and the cursed child book up for reservations already if yes where if no when harrypotter pottermore favorite   \n",
       "4                                                    3rd bihday to my amazing hilarious nephew eli ahmir uncle dave loves you and misses   \n",
       "...                                                                                                                                  ...   \n",
       "17192                                  thought factory left right polarisation trump uselections2016 leadership politics brexit blm gt 3   \n",
       "17193                                                     feeling like a mermaid hairflip neverready formal wedding gown dresses mermaid   \n",
       "17194  hillary campaigned today in ohio omg amp used words like assets amp liability never once did clinton say thee word radicalization   \n",
       "17195                                  happy at work conference right mindset leads to culture of development organizations work mindset   \n",
       "17196                                                                            my song so glad free download shoegaze newmusic newsong   \n",
       "\n",
       "       wordcount  charcount  mentions  hashtags  \\\n",
       "0              9         77         0         7   \n",
       "1             15         79         1         4   \n",
       "2              9         57         0         4   \n",
       "3             21        119         0         3   \n",
       "4             15         83         0         2   \n",
       "...          ...        ...       ...       ...   \n",
       "17192         13         97         0         6   \n",
       "17193         11         78         0         7   \n",
       "17194         21        129         0         5   \n",
       "17195         14         97         0         2   \n",
       "17196          9         55         0         3   \n",
       "\n",
       "                                                                                                       lemmas  \\\n",
       "0                                  studiolife aislife requires passion dedication willpower find newmaterials   \n",
       "1                                                              user white supremacists want new birds movie s   \n",
       "2                                                           safe ways heal acne altwaystoheal healthy healing   \n",
       "3                                       hp cursed child book reservations yes harrypotter pottermore favorite   \n",
       "4                                       3rd bihday amazing hilarious nephew eli ahmir uncle dave loves misses   \n",
       "...                                                                                                       ...   \n",
       "17192       thought factory left right polarisation trump uselections2016 leadership politics brexit blm gt 3   \n",
       "17193                            feeling like mermaid hairflip neverready formal wedding gown dresses mermaid   \n",
       "17194  hillary campaigned today ohio omg amp words like assets amp liability clinton thee word radicalization   \n",
       "17195                happy work conference right mindset leads culture development organizations work mindset   \n",
       "17196                                                       song glad free download shoegaze newmusic newsong   \n",
       "\n",
       "       nouncount  verbcount  adjcount  \n",
       "0              6          2         0  \n",
       "1              4          3         2  \n",
       "2              3          1         3  \n",
       "3              5          0         3  \n",
       "4              7          1         3  \n",
       "...          ...        ...       ...  \n",
       "17192          8          3         1  \n",
       "17193          3          2         3  \n",
       "17194         12          3         1  \n",
       "17195          7          2         2  \n",
       "17196          3          1         2  \n",
       "\n",
       "[17197 rows x 11 columns]"
      ]
     },
     "execution_count": 90,
     "metadata": {},
     "output_type": "execute_result"
    }
   ],
   "source": [
    "test"
   ]
  },
  {
   "cell_type": "markdown",
   "id": "ab81b475-676e-4eee-9474-15183fb5a7a9",
   "metadata": {},
   "source": [
    "# test predictions"
   ]
  },
  {
   "cell_type": "code",
   "execution_count": 91,
   "id": "beb90dae-a663-48da-b228-58c87c73882f",
   "metadata": {},
   "outputs": [],
   "source": [
    "test_count_vectors = count.transform(test['clean tweet'])"
   ]
  },
  {
   "cell_type": "code",
   "execution_count": 236,
   "id": "1e993a96-bb70-472c-b7ac-99691da53490",
   "metadata": {},
   "outputs": [],
   "source": [
    "test_tfidf_vectors = tfidf.transform(test['clean tweet'])"
   ]
  },
  {
   "cell_type": "code",
   "execution_count": 93,
   "id": "673f9942-a6cc-41e3-a8fe-d704f93f5185",
   "metadata": {},
   "outputs": [
    {
     "data": {
      "text/plain": [
       "<17197x38763 sparse matrix of type '<class 'numpy.int64'>'\n",
       "\twith 113713 stored elements in Compressed Sparse Row format>"
      ]
     },
     "execution_count": 93,
     "metadata": {},
     "output_type": "execute_result"
    }
   ],
   "source": [
    "test_count_vectors"
   ]
  },
  {
   "cell_type": "code",
   "execution_count": 94,
   "id": "068c770b-ea79-4222-8451-7a33034956c0",
   "metadata": {},
   "outputs": [
    {
     "data": {
      "text/plain": [
       "Index(['id', 'tweet', 'clean tweet', 'wordcount', 'charcount', 'mentions',\n",
       "       'hashtags', 'lemmas', 'nouncount', 'verbcount', 'adjcount'],\n",
       "      dtype='object')"
      ]
     },
     "execution_count": 94,
     "metadata": {},
     "output_type": "execute_result"
    }
   ],
   "source": [
    "test.columns"
   ]
  },
  {
   "cell_type": "code",
   "execution_count": 95,
   "id": "9a2a5dbb-422f-48c3-a265-47b4f388835f",
   "metadata": {},
   "outputs": [],
   "source": [
    "features = ['wordcount', 'charcount', 'mentions', 'hashtags', 'nouncount', 'verbcount', 'adjcount']"
   ]
  },
  {
   "cell_type": "code",
   "execution_count": 240,
   "id": "e2bcad23-0d5a-45f1-aafa-0fe7868a2a7f",
   "metadata": {},
   "outputs": [],
   "source": [
    "X_test = hstack([test_tfidf_vectors, csr_matrix(test[features])])"
   ]
  },
  {
   "cell_type": "code",
   "execution_count": 96,
   "id": "85eb87bb-e902-49bb-8890-c567fd085dcf",
   "metadata": {},
   "outputs": [],
   "source": [
    "X_test = hstack([test_count_vectors, csr_matrix(test[features])])"
   ]
  },
  {
   "cell_type": "code",
   "execution_count": 97,
   "id": "741197fb-8886-4eaf-bc16-dbb86d8559cc",
   "metadata": {},
   "outputs": [],
   "source": [
    "predictions = model.predict(X_test)"
   ]
  },
  {
   "cell_type": "code",
   "execution_count": 98,
   "id": "b67953e7-4bdd-4549-aab9-08348e77270f",
   "metadata": {},
   "outputs": [
    {
     "data": {
      "text/plain": [
       "array([0, 0, 0, ..., 0, 0, 0], dtype=int64)"
      ]
     },
     "execution_count": 98,
     "metadata": {},
     "output_type": "execute_result"
    }
   ],
   "source": [
    "predictions"
   ]
  },
  {
   "cell_type": "code",
   "execution_count": 99,
   "id": "0c703a74-f0bc-4a29-8a9c-f6b51d57f63e",
   "metadata": {},
   "outputs": [
    {
     "data": {
      "text/plain": [
       "array([31963, 31964, 31965, ..., 49157, 49158, 49159], dtype=int64)"
      ]
     },
     "execution_count": 99,
     "metadata": {},
     "output_type": "execute_result"
    }
   ],
   "source": [
    "test['id'].values"
   ]
  },
  {
   "cell_type": "code",
   "execution_count": 100,
   "id": "847f11ca-d7f2-4f89-a9b9-5737c4bed8a5",
   "metadata": {},
   "outputs": [
    {
     "data": {
      "text/html": [
       "<div>\n",
       "<style scoped>\n",
       "    .dataframe tbody tr th:only-of-type {\n",
       "        vertical-align: middle;\n",
       "    }\n",
       "\n",
       "    .dataframe tbody tr th {\n",
       "        vertical-align: top;\n",
       "    }\n",
       "\n",
       "    .dataframe thead th {\n",
       "        text-align: right;\n",
       "    }\n",
       "</style>\n",
       "<table border=\"1\" class=\"dataframe\">\n",
       "  <thead>\n",
       "    <tr style=\"text-align: right;\">\n",
       "      <th></th>\n",
       "      <th>id</th>\n",
       "      <th>label</th>\n",
       "    </tr>\n",
       "  </thead>\n",
       "  <tbody>\n",
       "    <tr>\n",
       "      <th>0</th>\n",
       "      <td>31963</td>\n",
       "      <td>0</td>\n",
       "    </tr>\n",
       "    <tr>\n",
       "      <th>1</th>\n",
       "      <td>31964</td>\n",
       "      <td>0</td>\n",
       "    </tr>\n",
       "    <tr>\n",
       "      <th>2</th>\n",
       "      <td>31965</td>\n",
       "      <td>0</td>\n",
       "    </tr>\n",
       "    <tr>\n",
       "      <th>3</th>\n",
       "      <td>31966</td>\n",
       "      <td>0</td>\n",
       "    </tr>\n",
       "    <tr>\n",
       "      <th>4</th>\n",
       "      <td>31967</td>\n",
       "      <td>0</td>\n",
       "    </tr>\n",
       "    <tr>\n",
       "      <th>...</th>\n",
       "      <td>...</td>\n",
       "      <td>...</td>\n",
       "    </tr>\n",
       "    <tr>\n",
       "      <th>17192</th>\n",
       "      <td>49155</td>\n",
       "      <td>1</td>\n",
       "    </tr>\n",
       "    <tr>\n",
       "      <th>17193</th>\n",
       "      <td>49156</td>\n",
       "      <td>0</td>\n",
       "    </tr>\n",
       "    <tr>\n",
       "      <th>17194</th>\n",
       "      <td>49157</td>\n",
       "      <td>0</td>\n",
       "    </tr>\n",
       "    <tr>\n",
       "      <th>17195</th>\n",
       "      <td>49158</td>\n",
       "      <td>0</td>\n",
       "    </tr>\n",
       "    <tr>\n",
       "      <th>17196</th>\n",
       "      <td>49159</td>\n",
       "      <td>0</td>\n",
       "    </tr>\n",
       "  </tbody>\n",
       "</table>\n",
       "<p>17197 rows × 2 columns</p>\n",
       "</div>"
      ],
      "text/plain": [
       "          id  label\n",
       "0      31963      0\n",
       "1      31964      0\n",
       "2      31965      0\n",
       "3      31966      0\n",
       "4      31967      0\n",
       "...      ...    ...\n",
       "17192  49155      1\n",
       "17193  49156      0\n",
       "17194  49157      0\n",
       "17195  49158      0\n",
       "17196  49159      0\n",
       "\n",
       "[17197 rows x 2 columns]"
      ]
     },
     "execution_count": 100,
     "metadata": {},
     "output_type": "execute_result"
    }
   ],
   "source": [
    "result = pd.DataFrame(predictions, test['id'].values).reset_index()\n",
    "result.columns=['id', 'label']\n",
    "result"
   ]
  },
  {
   "cell_type": "code",
   "execution_count": 101,
   "id": "dd78317e-adbc-4677-8f65-5e55a0de44a6",
   "metadata": {},
   "outputs": [],
   "source": [
    "result.to_csv(r'D:\\engineering\\CS\\AI ML Blackbelt +\\tests\\twitter sentiments\\submission1.csv', index=False)"
   ]
  },
  {
   "cell_type": "code",
   "execution_count": null,
   "id": "486833f0-da44-4360-a88b-5bea399bcbef",
   "metadata": {},
   "outputs": [],
   "source": []
  }
 ],
 "metadata": {
  "kernelspec": {
   "display_name": "Python 3 (ipykernel)",
   "language": "python",
   "name": "python3"
  },
  "language_info": {
   "codemirror_mode": {
    "name": "ipython",
    "version": 3
   },
   "file_extension": ".py",
   "mimetype": "text/x-python",
   "name": "python",
   "nbconvert_exporter": "python",
   "pygments_lexer": "ipython3",
   "version": "3.9.7"
  },
  "toc-autonumbering": true
 },
 "nbformat": 4,
 "nbformat_minor": 5
}
